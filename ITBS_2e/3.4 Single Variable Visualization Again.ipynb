{
 "cells": [
  {
   "cell_type": "code",
   "execution_count": 1,
   "metadata": {
    "collapsed": true
   },
   "outputs": [],
   "source": [
    "%matplotlib inline\n",
    "\n",
    "import numpy as np\n",
    "import matplotlib.pyplot as plt\n",
    "import pandas as pd\n",
    "from tqdm import tqdm_notebook as tqdm\n",
    "\n",
    "gold = 8.*np.array([1,1/((1+np.sqrt(5))/2)])\n",
    "\n",
    "# This function makes the plots look prettier on GitHub. \n",
    "### to do: figure out how to make this automatic.\n",
    "\n",
    "def fix_boxplot(parts):\n",
    "    for m in parts['fliers']:\n",
    "        m.set_markersize(12)\n",
    "        m.set_markeredgewidth(1)\n",
    "    for b in parts['boxes']:\n",
    "        b.set_linewidth(2)\n",
    "    for w in parts['whiskers']:\n",
    "        w.set_linewidth(2)\n",
    "    for c in parts['caps']:\n",
    "        c.set_linewidth(2)\n",
    "    for m in parts['medians']:\n",
    "        m.set_linewidth(2)\n",
    "    for m in parts['means']:\n",
    "        m.set_linewidth(2)\n",
    "        m.set_color('g')\n",
    "        m.set_markerfacecolor('g')\n",
    "\n",
    "# This function creates the stem and leaf plot\n",
    "def stem(data,leaf_dig=1):\n",
    "    sorted_data = data.copy()\n",
    "    sorted_data.sort()\n",
    "    stem = (sorted_data // (10**leaf_dig)).astype(int)\n",
    "    if leaf_dig>0:\n",
    "        leaf = (sorted_data % (10**leaf_dig)).astype(int)\n",
    "    else:\n",
    "        leaf = (sorted_data % (10**leaf_dig) * (10**(1-leaf_dig))).astype(int)\n",
    "    current_stem = -1\n",
    "    for s,l in zip(stem,leaf):\n",
    "        if s != current_stem:\n",
    "            current_stem = s\n",
    "            print(\"\\n{0:4d} | \".format(s),end='')\n",
    "        print(\"{0} \".format(l),end='')"
   ]
  },
  {
   "cell_type": "markdown",
   "metadata": {},
   "source": [
    "# Problem 3.4\n",
    "\n",
    "This problem is essentially identical to 3.3, but with different numbers.\n",
    "\n",
    "Again, the data values have been changed to my own."
   ]
  },
  {
   "cell_type": "code",
   "execution_count": 2,
   "metadata": {
    "collapsed": false
   },
   "outputs": [
    {
     "data": {
      "text/plain": [
       "array([ 97, 132,  44,  19,  78,  57,  67,  49,  99,  33,  83,  54, 415,\n",
       "        37,  17,  89,  46,   9,   4, 136,   1,  44,  38,  14,  65, 171,\n",
       "        29, 190,  17,  38,   9,  23,   4,  18,  20,   9,  12,  11,  10,\n",
       "        42,  35,  33,  27,  23, 115,  39,  15, 132, 136,  16])"
      ]
     },
     "execution_count": 2,
     "metadata": {},
     "output_type": "execute_result"
    }
   ],
   "source": [
    "wait_time = np.random.exponential(scale=50.,size=50).astype(int)\n",
    "wait_time"
   ]
  },
  {
   "cell_type": "markdown",
   "metadata": {},
   "source": [
    "### Part A\n",
    "\n",
    "Stem and leaf. Using the first decimal place as the leaf (leaf_dig = 0)"
   ]
  },
  {
   "cell_type": "code",
   "execution_count": 3,
   "metadata": {
    "collapsed": false
   },
   "outputs": [
    {
     "name": "stdout",
     "output_type": "stream",
     "text": [
      "\n",
      "   0 | 1 4 4 9 9 9 \n",
      "   1 | 0 1 2 4 5 6 7 7 8 9 \n",
      "   2 | 0 3 3 7 9 \n",
      "   3 | 3 3 5 7 8 8 9 \n",
      "   4 | 2 4 4 6 9 \n",
      "   5 | 4 7 \n",
      "   6 | 5 7 \n",
      "   7 | 8 \n",
      "   8 | 3 9 \n",
      "   9 | 7 9 \n",
      "  11 | 5 \n",
      "  13 | 2 2 6 6 \n",
      "  17 | 1 \n",
      "  19 | 0 \n",
      "  41 | 5 "
     ]
    }
   ],
   "source": [
    "stem(wait_time,1)"
   ]
  },
  {
   "cell_type": "markdown",
   "metadata": {},
   "source": [
    "### Part B\n",
    "\n",
    "Quartiles."
   ]
  },
  {
   "cell_type": "code",
   "execution_count": 4,
   "metadata": {
    "collapsed": false
   },
   "outputs": [
    {
     "name": "stdout",
     "output_type": "stream",
     "text": [
      "Meidan: 37.5\n",
      "    Q1: 17.0\n",
      "    Q3: 75.25\n"
     ]
    }
   ],
   "source": [
    "print(\"Meidan: {0}\".format(np.percentile(wait_time,50)))\n",
    "print(\"    Q1: {0}\".format(np.percentile(wait_time,25)))\n",
    "print(\"    Q3: {0}\".format(np.percentile(wait_time,75)))"
   ]
  },
  {
   "cell_type": "markdown",
   "metadata": {},
   "source": [
    "### Part C\n",
    "Boxplot."
   ]
  },
  {
   "cell_type": "code",
   "execution_count": 5,
   "metadata": {
    "collapsed": false
   },
   "outputs": [
    {
     "data": {
      "image/png": "[encoded data removed]",
      "text/plain": [
       "<matplotlib.figure.Figure at 0x104c462b0>"
      ]
     },
     "metadata": {},
     "output_type": "display_data"
    }
   ],
   "source": [
    "parts = plt.boxplot(wait_time,vert=False,labels=['Wait Time'])\n",
    "plt.xticks(fontsize=16)\n",
    "plt.yticks(fontsize=16)\n",
    "plt.axis([0,200,0.75,1.25])\n",
    "fix_boxplot(parts)"
   ]
  },
  {
   "cell_type": "markdown",
   "metadata": {},
   "source": [
    "### Part D\n",
    "Frequency Table."
   ]
  },
  {
   "cell_type": "code",
   "execution_count": 6,
   "metadata": {
    "collapsed": false
   },
   "outputs": [
    {
     "name": "stdout",
     "output_type": "stream",
     "text": [
      "    Boundaries\t    Frequency\n",
      "------------------------------\n",
      "  0.0 < x <= 20.0\t17\n",
      " 20.0 < x <= 40.0\t11\n",
      " 40.0 < x <= 60.0\t7\n",
      " 60.0 < x <= 80.0\t3\n",
      " 80.0 < x <= 100.0\t4\n",
      "100.0 < x <= 200.0\t7\n"
     ]
    }
   ],
   "source": [
    "boundaries = np.array([0,20,40,60,80,100,200])\n",
    "frequency = np.array([sum((wait_time>boundaries[i]) & (wait_time<=boundaries[i+1])) for i in range(len(boundaries)-1)])\n",
    "print(\"    Boundaries\\t    Frequency\")\n",
    "print(\"-\"*30)\n",
    "for i in range(len(boundaries)-1):\n",
    "    print(\"{0:5.1f} < x <= {1:.1f}\\t{2}\".format(boundaries[i],boundaries[i+1],frequency[i]))"
   ]
  },
  {
   "cell_type": "markdown",
   "metadata": {},
   "source": [
    "### Part E\n",
    "Histogram."
   ]
  },
  {
   "cell_type": "code",
   "execution_count": 7,
   "metadata": {
    "collapsed": false
   },
   "outputs": [
    {
     "data": {
      "text/plain": [
       "<matplotlib.text.Text at 0x116f9a278>"
      ]
     },
     "execution_count": 7,
     "metadata": {},
     "output_type": "execute_result"
    },
    {
     "data": {
      "image/png": "[encoded data removed]",
      "text/plain": [
       "<matplotlib.figure.Figure at 0x114a6e320>"
      ]
     },
     "metadata": {},
     "output_type": "display_data"
    }
   ],
   "source": [
    "widths = boundaries[1:]-boundaries[:-1]\n",
    "plt.bar(boundaries[:-1],frequency/widths,width=widths,color=\"#7777aa\")\n",
    "plt.xticks(boundaries,fontsize=14,rotation='vertical')\n",
    "plt.yticks(fontsize=14)\n",
    "plt.xlabel(\"Wait Time\",fontsize=18)\n",
    "plt.ylabel(\"Frequency\",fontsize=18)"
   ]
  },
  {
   "cell_type": "markdown",
   "metadata": {},
   "source": [
    "### Part F\n",
    "Cumulative Frequency."
   ]
  },
  {
   "cell_type": "code",
   "execution_count": 8,
   "metadata": {
    "collapsed": false
   },
   "outputs": [
    {
     "data": {
      "text/plain": [
       "<matplotlib.legend.Legend at 0x11722cc18>"
      ]
     },
     "execution_count": 8,
     "metadata": {},
     "output_type": "execute_result"
    },
    {
     "data": {
      "image/png": "[encoded data removed]",
      "text/plain": [
       "<matplotlib.figure.Figure at 0x104c466a0>"
      ]
     },
     "metadata": {},
     "output_type": "display_data"
    }
   ],
   "source": [
    "CF = np.cumsum(frequency)\n",
    "CF.resize(len(CF)+1)\n",
    "CF = np.roll(CF,1)\n",
    "plt.plot(boundaries,CF,'-s',linewidth=3,label=\"CF\")\n",
    "plt.plot([0,200],0.25*sum(frequency)*np.ones(2),'--',label=\"Q1\")\n",
    "plt.plot([0,200],0.5*sum(frequency)*np.ones(2),'--',label=\"Median\")\n",
    "plt.plot([0,200],0.75*sum(frequency)*np.ones(2),'--',label=\"Q3\")\n",
    "plt.xticks(fontsize=14)\n",
    "plt.yticks(fontsize=14)\n",
    "plt.xlabel(\"Wait Time\",fontsize=18)\n",
    "plt.ylabel(\"Cumulative Frequency\",fontsize=18)\n",
    "plt.legend(loc='lower right')"
   ]
  },
  {
   "cell_type": "code",
   "execution_count": null,
   "metadata": {
    "collapsed": true
   },
   "outputs": [],
   "source": []
  }
 ],
 "metadata": {
  "anaconda-cloud": {},
  "kernelspec": {
   "display_name": "Python [default]",
   "language": "python",
   "name": "python3"
  },
  "language_info": {
   "codemirror_mode": {
    "name": "ipython",
    "version": 3
   },
   "file_extension": ".py",
   "mimetype": "text/x-python",
   "name": "python",
   "nbconvert_exporter": "python",
   "pygments_lexer": "ipython3",
   "version": "3.5.2"
  }
 },
 "nbformat": 4,
 "nbformat_minor": 1
}
