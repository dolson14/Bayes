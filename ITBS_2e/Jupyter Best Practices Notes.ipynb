{
 "cells": [
  {
   "cell_type": "markdown",
   "metadata": {},
   "source": [
    "The following come from a talk by Jonathan Whitmore at OSCON 2015:\n",
    "\n",
    "https://svds.com/jupyter-notebook-best-practices-for-data-science/"
   ]
  },
  {
   "cell_type": "markdown",
   "metadata": {},
   "source": [
    "# Title\n",
    "\n",
    "## Notebook Description\n",
    "  * Include all questions being pursued.\n",
    "  * Mark those that were dead ends, but keep them in the notebook."
   ]
  },
  {
   "cell_type": "markdown",
   "metadata": {},
   "source": [
    "## Start with imports\n",
    "  - Magics\n",
    "  - In alphabetical order of each subgroup:\n",
    "    - Standard Library\n",
    "    - Third Party Libraries\n",
    "    - Local Libraries"
   ]
  },
  {
   "cell_type": "code",
   "execution_count": 1,
   "metadata": {
    "collapsed": false
   },
   "outputs": [
    {
     "name": "stdout",
     "output_type": "stream",
     "text": [
      "This unreleased version of SpacePy is not supported by the SpacePy team.\n"
     ]
    },
    {
     "data": {
      "application/json": {
       "Software versions": [
        {
         "module": "Python",
         "version": "3.5.2 64bit [GCC 4.2.1 Compatible Apple LLVM 4.2 (clang-425.0.28)]"
        },
        {
         "module": "IPython",
         "version": "5.1.0"
        },
        {
         "module": "OS",
         "version": "Darwin 15.6.0 x86_64 i386 64bit"
        },
        {
         "module": "numpy",
         "version": "1.11.2"
        },
        {
         "module": "scipy",
         "version": "0.18.1"
        },
        {
         "module": "pandas",
         "version": "0.19.0"
        },
        {
         "module": "matplotlib",
         "version": "1.5.3"
        },
        {
         "module": "spacepy",
         "version": "UNRELEASED"
        }
       ]
      },
      "text/html": [
       "<table><tr><th>Software</th><th>Version</th></tr><tr><td>Python</td><td>3.5.2 64bit [GCC 4.2.1 Compatible Apple LLVM 4.2 (clang-425.0.28)]</td></tr><tr><td>IPython</td><td>5.1.0</td></tr><tr><td>OS</td><td>Darwin 15.6.0 x86_64 i386 64bit</td></tr><tr><td>numpy</td><td>1.11.2</td></tr><tr><td>scipy</td><td>0.18.1</td></tr><tr><td>pandas</td><td>0.19.0</td></tr><tr><td>matplotlib</td><td>1.5.3</td></tr><tr><td>spacepy</td><td>UNRELEASED</td></tr><tr><td colspan='2'>Thu Oct 13 12:47:33 2016 MDT</td></tr></table>"
      ],
      "text/latex": [
       "\\begin{tabular}{|l|l|}\\hline\n",
       "{\\bf Software} & {\\bf Version} \\\\ \\hline\\hline\n",
       "Python & 3.5.2 64bit [GCC 4.2.1 Compatible Apple LLVM 4.2 (clang-425.0.28)] \\\\ \\hline\n",
       "IPython & 5.1.0 \\\\ \\hline\n",
       "OS & Darwin 15.6.0 x86\\_64 i386 64bit \\\\ \\hline\n",
       "numpy & 1.11.2 \\\\ \\hline\n",
       "scipy & 0.18.1 \\\\ \\hline\n",
       "pandas & 0.19.0 \\\\ \\hline\n",
       "matplotlib & 1.5.3 \\\\ \\hline\n",
       "spacepy & UNRELEASED \\\\ \\hline\n",
       "\\hline \\multicolumn{2}{|l|}{Thu Oct 13 12:47:33 2016 MDT} \\\\ \\hline\n",
       "\\end{tabular}\n"
      ],
      "text/plain": [
       "Software versions\n",
       "Python 3.5.2 64bit [GCC 4.2.1 Compatible Apple LLVM 4.2 (clang-425.0.28)]\n",
       "IPython 5.1.0\n",
       "OS Darwin 15.6.0 x86_64 i386 64bit\n",
       "numpy 1.11.2\n",
       "scipy 0.18.1\n",
       "pandas 0.19.0\n",
       "matplotlib 1.5.3\n",
       "spacepy UNRELEASED\n",
       "Thu Oct 13 12:47:33 2016 MDT"
      ]
     },
     "execution_count": 1,
     "metadata": {},
     "output_type": "execute_result"
    }
   ],
   "source": [
    "# The server works best if magics happen first\n",
    "%matplotlib inline\n",
    "### It is considered better practice to use %matplotlib instead of %pylab, as %pylab\n",
    "### also automatically imports a number of things into the namespace, which can cause\n",
    "### pollution and conflicts.\n",
    "\n",
    "# https://ipython.org/ipython-doc/dev/config/extensions/autoreload.html\n",
    "%load_ext autoreload\n",
    "%autoreload 1\n",
    "### There are a number of modes in autoreload:\n",
    "###     0: Disable\n",
    "###     1: Only reload explicit modules (those imported with %aimport) every time they are called\n",
    "###     2: Reload all modules every time they are called\n",
    "###\n",
    "### Personally, I'm not such a fan of this idea, but I'm leaving it here to test its functionality.\n",
    "\n",
    "# https://github.com/jrjohansson/version_information\n",
    "# pip install version_information\n",
    "%load_ext version_information\n",
    "%version_information numpy,scipy,pandas,matplotlib,spacepy\n",
    "### Will display Python, IPython, and OS versions by default. Follow with comma separated list of\n",
    "### any relevant packages you would like displayed."
   ]
  },
  {
   "cell_type": "code",
   "execution_count": 2,
   "metadata": {
    "collapsed": true
   },
   "outputs": [],
   "source": [
    "# Standard Library\n",
    "import os\n",
    "import sys\n",
    "import time\n",
    "\n",
    "# Third Party Libraries\n",
    "from IPython.display import FileLink\n",
    "import matplotlib.pyplot as plt\n",
    "import numpy as np\n",
    "import pandas as pd\n",
    "import seaborn as sns\n",
    "\n",
    "# Local Libraries\n",
    "gold = 8.*np.array([1,1/((1+np.sqrt(5))/2)])\n",
    "\n",
    "def fix_boxplot(parts):\n",
    "    for m in parts['fliers']:\n",
    "        m.set_markersize(12)\n",
    "        m.set_markeredgewidth(1)\n",
    "    for b in parts['boxes']:\n",
    "        b.set_linewidth(2)\n",
    "    for w in parts['whiskers']:\n",
    "        w.set_linewidth(2)\n",
    "    for c in parts['caps']:\n",
    "        c.set_linewidth(2)\n",
    "    for m in parts['medians']:\n",
    "        m.set_linewidth(2)\n",
    "    for m in parts['means']:\n",
    "        m.set_linewidth(2)\n",
    "        m.set_color('g')\n",
    "        m.set_markerfacecolor('g')"
   ]
  },
  {
   "cell_type": "code",
   "execution_count": 3,
   "metadata": {
    "collapsed": true
   },
   "outputs": [],
   "source": [
    "# Do any interface customizations next\n",
    "sns.set()\n",
    "plt.rcParams['figure.figsize'] = gold\n",
    "%config InlineBackend.figure_format='retina'"
   ]
  },
  {
   "cell_type": "code",
   "execution_count": 4,
   "metadata": {
    "collapsed": true
   },
   "outputs": [],
   "source": [
    "# Establish any path needs here\n",
    "sys.path.append(\"./src/\")\n",
    "fig_prefix = \"./figures/{d.tm_year:04d}-{d.tm_mon:02d}-{d.tm_mday:02d}-dko-\"\n",
    "### He's actually using a filename convention of <notebook id>-<developer>-<description>, where his\n",
    "### notebook id is the current date."
   ]
  },
  {
   "cell_type": "markdown",
   "metadata": {},
   "source": [
    "## Actual Work\n",
    "From here, start doing the notebook work.\n",
    "\n",
    "It's helpful to keep notebooks short, and so it's a good idea to link back to previous work."
   ]
  },
  {
   "cell_type": "code",
   "execution_count": 5,
   "metadata": {
    "collapsed": false
   },
   "outputs": [
    {
     "data": {
      "text/html": [
       "<a href='./3.1 Single Variable Visualization.ipynb' target='_blank'>./3.1 Single Variable Visualization.ipynb</a><br>"
      ],
      "text/plain": [
       "/Users/dolson/research/Bayes/ITBS_2e/3.1 Single Variable Visualization.ipynb"
      ]
     },
     "execution_count": 5,
     "metadata": {},
     "output_type": "execute_result"
    }
   ],
   "source": [
    "FileLink(\"./3.1 Single Variable Visualization.ipynb\")"
   ]
  },
  {
   "cell_type": "markdown",
   "metadata": {},
   "source": [
    "## Saving Figures\n",
    "It's not a bad idea to save a hard copy of the inline figures as you go."
   ]
  },
  {
   "cell_type": "code",
   "execution_count": 6,
   "metadata": {
    "collapsed": false
   },
   "outputs": [
    {
     "data": {
      "image/png": "[encoded data removed]",
      "text/plain": [
       "<matplotlib.figure.Figure at 0x11537f160>"
      ]
     },
     "metadata": {
      "image/png": {
       "height": 477,
       "width": 783
      }
     },
     "output_type": "display_data"
    }
   ],
   "source": [
    "data = np.random.normal(10,3,size=200)\n",
    "parts = plt.boxplot(data,vert=False,labels=['Data'])\n",
    "plt.xticks(fontsize=16)\n",
    "plt.yticks(fontsize=16)\n",
    "plt.axis([-5,25,0.75,1.25])\n",
    "fix_boxplot(parts)\n",
    "\n",
    "plt.tight_layout()\n",
    "plt.savefig(fig_prefix.format(d=time.localtime()) + \"jupyter-best-practices.png\")"
   ]
  },
  {
   "cell_type": "markdown",
   "metadata": {},
   "source": [
    "# Appendix\n",
    "\n",
    "## Organizing Directories\n",
    "  * data: backed up outside of version control\n",
    "  * deliver: final polished notebooks for consumption\n",
    "  * develop: lab notebooks here\n",
    "  * figures: save all notebook figures independently here\n",
    "  * src: local scripts and modules\n",
    "\n",
    "## Notebook File Formats\n",
    "It's useful to have .html and .py formats of your work independently. This can be done automatically by changing the jupyter config file."
   ]
  },
  {
   "cell_type": "raw",
   "metadata": {},
   "source": [
    "import os\n",
    "from subprocess import check_call\n",
    "\n",
    "def post_save(model, os_path, contents_manager):\n",
    "    \"\"\"post-save hook for converting notebooks to\n",
    ".py and .html files.\"\"\"\n",
    "\n",
    "    if model['type'] != 'notebook':\n",
    "        return # This only needs to be done if we're in a notebook environemnt\n",
    "    \n",
    "    d, fname = os.path.split(os_path)\n",
    "    check_call(['jupyter', 'nbconvert', '--to', 'script', fname], cwd=d)\n",
    "    check_call(['jupyter', 'nbconvert', '--to', 'html', fname], cwd=d)\n",
    "    \n",
    "c.FileContentsManager.post_save_hook = post_save"
   ]
  },
  {
   "cell_type": "code",
   "execution_count": null,
   "metadata": {
    "collapsed": true
   },
   "outputs": [],
   "source": []
  }
 ],
 "metadata": {
  "anaconda-cloud": {},
  "kernelspec": {
   "display_name": "Python [default]",
   "language": "python",
   "name": "python3"
  },
  "language_info": {
   "codemirror_mode": {
    "name": "ipython",
    "version": 3
   },
   "file_extension": ".py",
   "mimetype": "text/x-python",
   "name": "python",
   "nbconvert_exporter": "python",
   "pygments_lexer": "ipython3",
   "version": "3.5.2"
  }
 },
 "nbformat": 4,
 "nbformat_minor": 1
}
