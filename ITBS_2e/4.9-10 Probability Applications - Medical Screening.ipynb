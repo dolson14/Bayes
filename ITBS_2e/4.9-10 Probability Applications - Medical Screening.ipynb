{
 "cells": [
  {
   "cell_type": "code",
   "execution_count": 1,
   "metadata": {
    "collapsed": false
   },
   "outputs": [
    {
     "data": {
      "application/json": {
       "Software versions": [
        {
         "module": "Python",
         "version": "3.5.2 64bit [GCC 4.2.1 Compatible Apple LLVM 4.2 (clang-425.0.28)]"
        },
        {
         "module": "IPython",
         "version": "5.1.0"
        },
        {
         "module": "OS",
         "version": "Darwin 15.6.0 x86_64 i386 64bit"
        }
       ]
      },
      "text/html": [
       "<table><tr><th>Software</th><th>Version</th></tr><tr><td>Python</td><td>3.5.2 64bit [GCC 4.2.1 Compatible Apple LLVM 4.2 (clang-425.0.28)]</td></tr><tr><td>IPython</td><td>5.1.0</td></tr><tr><td>OS</td><td>Darwin 15.6.0 x86_64 i386 64bit</td></tr><tr><td colspan='2'>Tue Oct 18 13:11:29 2016 MDT</td></tr></table>"
      ],
      "text/latex": [
       "\\begin{tabular}{|l|l|}\\hline\n",
       "{\\bf Software} & {\\bf Version} \\\\ \\hline\\hline\n",
       "Python & 3.5.2 64bit [GCC 4.2.1 Compatible Apple LLVM 4.2 (clang-425.0.28)] \\\\ \\hline\n",
       "IPython & 5.1.0 \\\\ \\hline\n",
       "OS & Darwin 15.6.0 x86\\_64 i386 64bit \\\\ \\hline\n",
       "\\hline \\multicolumn{2}{|l|}{Tue Oct 18 13:11:29 2016 MDT} \\\\ \\hline\n",
       "\\end{tabular}\n"
      ],
      "text/plain": [
       "Software versions\n",
       "Python 3.5.2 64bit [GCC 4.2.1 Compatible Apple LLVM 4.2 (clang-425.0.28)]\n",
       "IPython 5.1.0\n",
       "OS Darwin 15.6.0 x86_64 i386 64bit\n",
       "Tue Oct 18 13:11:29 2016 MDT"
      ]
     },
     "execution_count": 1,
     "metadata": {},
     "output_type": "execute_result"
    }
   ],
   "source": [
    "%matplotlib inline\n",
    "%load_ext version_information\n",
    "%version_information"
   ]
  },
  {
   "cell_type": "markdown",
   "metadata": {},
   "source": [
    "# Problem 4.9\n",
    "\n",
    "Here we specify a few probabilities in terms of their relation to each other. We know that:\n",
    "  * _sensitivity_: $P(T|D) = 0.95$ -- given a person has the disease, there's a 95% chance of getting a positive test value.\n",
    "  * _false positive rate_: $P(T|\\tilde{D}) = 0.10$ -- given a person _does not_ have the disease, there's a 10% chance of getting a false positive. (This is the complement of the _specificity_.)\n",
    "  * $P(D) = 0.01$ -- There is a 1% chance of a person having the disease.\n",
    "\n",
    "Using this information, we want to know what the probability is that a person who is tested positive actually has the disease. That is, we are looking for $P(D|T)$.\n",
    "\n",
    "To solve this problem, we can apply Bayes' Theorem:\n",
    "<p style=\"margin-left: 40px\">$P(D|T) = \\frac{\\large{P(T|D) \\times P(D)}}{\\large{P(T|D) \\times P(D) + P(T|\\tilde{D}) \\times P(\\tilde{D})}}$</p>"
   ]
  },
  {
   "cell_type": "code",
   "execution_count": 2,
   "metadata": {
    "collapsed": false
   },
   "outputs": [
    {
     "name": "stdout",
     "output_type": "stream",
     "text": [
      "P(D|T) = 8.76%\n"
     ]
    }
   ],
   "source": [
    "P_TgivenD = 0.95\n",
    "P_TgivenNotD = 0.1\n",
    "P_D = 0.01\n",
    "P_notD = 1 - P_D\n",
    "\n",
    "print(\"P(D|T) = {0:.2f}%\".format(100*(P_TgivenD*P_D)/(P_TgivenD*P_D + P_TgivenNotD*P_notD)))"
   ]
  },
  {
   "cell_type": "markdown",
   "metadata": {},
   "source": [
    "# Problem 4.10\n",
    "\n",
    "In this problem, we have a _sensitivity_ of 0.90, and a _specificity_ of 0.95 (meaning a _false positive rate_ of 0.05). The underlying rate of the cancer this test screens is 0.001.\n",
    "  * Define $A$ as \"the screening gives a positive test result\"\n",
    "  * Define $B$ as \"the person has this specific cancer\"\n",
    "\n",
    "From that, we can say that\n",
    "  * $P(A|B) = 0.90$\n",
    "  * $P(A|\\tilde{B}) = 0.05$\n",
    "  * $P(B) = 0.001$\n",
    "\n",
    "Now we must find the probability that a person has the cancer given a positive test result, i.e. $P(B|A)$. From this value, we can draw conclusions about how effective the screen is at detecting the cancer.\n",
    "\n",
    "Again, as in Problem 4.9, the way to answer the question is by using Bayes' Theorem.\n",
    "<p style=\"margin-left: 40px\">$P(B|A) = \\frac{\\large{P(A|B) \\times P(B)}}{\\large{P(A|B) \\times P(B) + P(A|\\tilde{B}) \\times P(\\tilde{B})}}$</p>"
   ]
  },
  {
   "cell_type": "code",
   "execution_count": 3,
   "metadata": {
    "collapsed": false
   },
   "outputs": [
    {
     "name": "stdout",
     "output_type": "stream",
     "text": [
      "P(B|A) = 1.77%\n"
     ]
    }
   ],
   "source": [
    "P_AgivenB = 0.90\n",
    "P_AgivenNotB = 0.05\n",
    "P_B = 0.001\n",
    "P_notB = 1-P_B\n",
    "\n",
    "print(\"P(B|A) = {0:.2f}%\".format(100*(P_AgivenB*P_B)/(P_AgivenB*P_B+P_AgivenNotB*P_notB)))"
   ]
  },
  {
   "cell_type": "markdown",
   "metadata": {},
   "source": [
    "Given how low the probability is that a person has cancer with a positive test result, this screening is not very effective."
   ]
  },
  {
   "cell_type": "code",
   "execution_count": null,
   "metadata": {
    "collapsed": true
   },
   "outputs": [],
   "source": []
  }
 ],
 "metadata": {
  "anaconda-cloud": {},
  "kernelspec": {
   "display_name": "Python [default]",
   "language": "python",
   "name": "python3"
  },
  "language_info": {
   "codemirror_mode": {
    "name": "ipython",
    "version": 3
   },
   "file_extension": ".py",
   "mimetype": "text/x-python",
   "name": "python",
   "nbconvert_exporter": "python",
   "pygments_lexer": "ipython3",
   "version": "3.5.2"
  }
 },
 "nbformat": 4,
 "nbformat_minor": 1
}
