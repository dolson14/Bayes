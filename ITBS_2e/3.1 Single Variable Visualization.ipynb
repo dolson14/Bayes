{
 "cells": [
  {
   "cell_type": "code",
   "execution_count": 1,
   "metadata": {
    "collapsed": false
   },
   "outputs": [],
   "source": [
    "%matplotlib inline\n",
    "\n",
    "import numpy as np\n",
    "import matplotlib.pyplot as plt\n",
    "import pandas as pd\n",
    "from tqdm import tqdm_notebook as tqdm\n",
    "\n",
    "gold = 8.*np.array([1,1/((1+np.sqrt(5))/2)])\n",
    "\n",
    "# This function makes the plots look prettier on GitHub. \n",
    "### to do: figure out how to make this automatic.\n",
    "\n",
    "def fix_boxplot(parts):\n",
    "    for m in parts['fliers']:\n",
    "        m.set_markersize(12)\n",
    "        m.set_markeredgewidth(1)\n",
    "    for b in parts['boxes']:\n",
    "        b.set_linewidth(2)\n",
    "    for w in parts['whiskers']:\n",
    "        w.set_linewidth(2)\n",
    "    for c in parts['caps']:\n",
    "        c.set_linewidth(2)\n",
    "    for m in parts['medians']:\n",
    "        m.set_linewidth(2)\n",
    "    for m in parts['means']:\n",
    "        m.set_linewidth(2)\n",
    "        m.set_color('g')\n",
    "        m.set_markerfacecolor('g')"
   ]
  },
  {
   "cell_type": "markdown",
   "metadata": {},
   "source": [
    "# Problem 3.1\n",
    "\n",
    "Rather than use the text's data table for this problem, I will use one of my own making to avoid the potential for others to reproduce my work as their own in a homework solution."
   ]
  },
  {
   "cell_type": "code",
   "execution_count": 2,
   "metadata": {
    "collapsed": false
   },
   "outputs": [
    {
     "data": {
      "text/plain": [
       "array([ 2, 20, 10, 48, 30, 40, 49,  5,  1, 28,  1,  3, 33, 36, 29, 15, 44,\n",
       "       48, 34, 34, 11, 42,  5, 29,  2])"
      ]
     },
     "execution_count": 2,
     "metadata": {},
     "output_type": "execute_result"
    }
   ],
   "source": [
    "data = np.random.randint(1,50,size=25)\n",
    "data"
   ]
  },
  {
   "cell_type": "markdown",
   "metadata": {},
   "source": [
    "### Part A\n",
    "We want to create a stem-and-leaf diagram for this data.\n",
    "\n",
    "To the best of my knowledge at this time, none of the statistics packages will do this automatically. Fortunately, it is a trivial thing to code."
   ]
  },
  {
   "cell_type": "code",
   "execution_count": 3,
   "metadata": {
    "collapsed": false
   },
   "outputs": [
    {
     "name": "stdout",
     "output_type": "stream",
     "text": [
      "\n",
      "   0 | 1 1 2 2 3 5 5 \n",
      "   1 | 0 1 5 \n",
      "   2 | 0 8 9 9 \n",
      "   3 | 0 3 4 4 6 \n",
      "   4 | 0 2 4 8 8 9 "
     ]
    }
   ],
   "source": [
    "def stem(data,leaf_dig=1):\n",
    "    sorted_data = data.copy()\n",
    "    sorted_data.sort()\n",
    "    stem = (sorted_data // (10**leaf_dig)).astype(int)\n",
    "    if leaf_dig>0:\n",
    "        leaf = (sorted_data % (10**leaf_dig)).astype(int)\n",
    "    else:\n",
    "        leaf = (sorted_data % (10**leaf_dig) * (10**(1-leaf_dig))).astype(int)\n",
    "    current_stem = -1\n",
    "    for s,l in zip(stem,leaf):\n",
    "        if s != current_stem:\n",
    "            current_stem = s\n",
    "            print(\"\\n{0:4d} | \".format(s),end='')\n",
    "        print(\"{0} \".format(l),end='')\n",
    "\n",
    "stem(data)\n",
    "\n"
   ]
  },
  {
   "cell_type": "markdown",
   "metadata": {},
   "source": [
    "### Part B\n",
    "Next is to find the quartile values of the set."
   ]
  },
  {
   "cell_type": "code",
   "execution_count": 4,
   "metadata": {
    "collapsed": false
   },
   "outputs": [
    {
     "name": "stdout",
     "output_type": "stream",
     "text": [
      "Meidan: 29.0\n",
      "    Q1: 5.0\n",
      "    Q3: 36.0\n"
     ]
    }
   ],
   "source": [
    "print(\"Meidan: {0}\".format(np.percentile(data,50)))\n",
    "print(\"    Q1: {0}\".format(np.percentile(data,25)))\n",
    "print(\"    Q3: {0}\".format(np.percentile(data,75)))"
   ]
  },
  {
   "cell_type": "markdown",
   "metadata": {},
   "source": [
    "### Part C\n",
    "\n",
    "Finally, we create the boxplot of the data."
   ]
  },
  {
   "cell_type": "code",
   "execution_count": 5,
   "metadata": {
    "collapsed": false
   },
   "outputs": [
    {
     "data": {
      "image/png": "[encoded data removed]",
      "text/plain": [
       "<matplotlib.figure.Figure at 0x104a46cc0>"
      ]
     },
     "metadata": {},
     "output_type": "display_data"
    }
   ],
   "source": [
    "parts = plt.boxplot(data,vert=False,labels=['Data'])\n",
    "plt.xticks(fontsize=16)\n",
    "plt.yticks(fontsize=16)\n",
    "plt.axis([0,50,0.75,1.25])\n",
    "fix_boxplot(parts)"
   ]
  },
  {
   "cell_type": "code",
   "execution_count": null,
   "metadata": {
    "collapsed": true
   },
   "outputs": [],
   "source": []
  }
 ],
 "metadata": {
  "anaconda-cloud": {},
  "kernelspec": {
   "display_name": "Python [default]",
   "language": "python",
   "name": "python3"
  },
  "language_info": {
   "codemirror_mode": {
    "name": "ipython",
    "version": 3
   },
   "file_extension": ".py",
   "mimetype": "text/x-python",
   "name": "python",
   "nbconvert_exporter": "python",
   "pygments_lexer": "ipython3",
   "version": "3.5.2"
  }
 },
 "nbformat": 4,
 "nbformat_minor": 1
}
