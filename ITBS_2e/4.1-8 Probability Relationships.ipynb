{
 "cells": [
  {
   "cell_type": "code",
   "execution_count": 1,
   "metadata": {
    "collapsed": true
   },
   "outputs": [],
   "source": [
    "%matplotlib inline\n",
    "%load_ext version_information"
   ]
  },
  {
   "cell_type": "code",
   "execution_count": 2,
   "metadata": {
    "collapsed": false
   },
   "outputs": [
    {
     "data": {
      "application/json": {
       "Software versions": [
        {
         "module": "Python",
         "version": "3.5.2 64bit [GCC 4.2.1 Compatible Apple LLVM 4.2 (clang-425.0.28)]"
        },
        {
         "module": "IPython",
         "version": "5.1.0"
        },
        {
         "module": "OS",
         "version": "Darwin 15.6.0 x86_64 i386 64bit"
        },
        {
         "module": "matplotlib",
         "version": "1.5.3"
        },
        {
         "module": "numpy",
         "version": "1.11.2"
        },
        {
         "module": "pandas",
         "version": "0.19.0"
        }
       ]
      },
      "text/html": [
       "<table><tr><th>Software</th><th>Version</th></tr><tr><td>Python</td><td>3.5.2 64bit [GCC 4.2.1 Compatible Apple LLVM 4.2 (clang-425.0.28)]</td></tr><tr><td>IPython</td><td>5.1.0</td></tr><tr><td>OS</td><td>Darwin 15.6.0 x86_64 i386 64bit</td></tr><tr><td>matplotlib</td><td>1.5.3</td></tr><tr><td>numpy</td><td>1.11.2</td></tr><tr><td>pandas</td><td>0.19.0</td></tr><tr><td colspan='2'>Mon Oct 17 17:32:12 2016 MDT</td></tr></table>"
      ],
      "text/latex": [
       "\\begin{tabular}{|l|l|}\\hline\n",
       "{\\bf Software} & {\\bf Version} \\\\ \\hline\\hline\n",
       "Python & 3.5.2 64bit [GCC 4.2.1 Compatible Apple LLVM 4.2 (clang-425.0.28)] \\\\ \\hline\n",
       "IPython & 5.1.0 \\\\ \\hline\n",
       "OS & Darwin 15.6.0 x86\\_64 i386 64bit \\\\ \\hline\n",
       "matplotlib & 1.5.3 \\\\ \\hline\n",
       "numpy & 1.11.2 \\\\ \\hline\n",
       "pandas & 0.19.0 \\\\ \\hline\n",
       "\\hline \\multicolumn{2}{|l|}{Mon Oct 17 17:32:12 2016 MDT} \\\\ \\hline\n",
       "\\end{tabular}\n"
      ],
      "text/plain": [
       "Software versions\n",
       "Python 3.5.2 64bit [GCC 4.2.1 Compatible Apple LLVM 4.2 (clang-425.0.28)]\n",
       "IPython 5.1.0\n",
       "OS Darwin 15.6.0 x86_64 i386 64bit\n",
       "matplotlib 1.5.3\n",
       "numpy 1.11.2\n",
       "pandas 0.19.0\n",
       "Mon Oct 17 17:32:12 2016 MDT"
      ]
     },
     "execution_count": 2,
     "metadata": {},
     "output_type": "execute_result"
    }
   ],
   "source": [
    "# Standard Library\n",
    "from fractions import Fraction as frac\n",
    "\n",
    "# Third Party Libraries\n",
    "import matplotlib.pyplot as plt\n",
    "import numpy as np\n",
    "import pandas as pd\n",
    "from tqdm import tqdm_notebook as tqdm\n",
    "\n",
    "%version_information matplotlib,numpy,pandas"
   ]
  },
  {
   "cell_type": "code",
   "execution_count": 3,
   "metadata": {
    "collapsed": false
   },
   "outputs": [],
   "source": [
    "# Local Definitions\n",
    "def sepline():\n",
    "    print(\"\\u25ad\"+\"\\u2501\"*14*3+\"\\u25ad\")"
   ]
  },
  {
   "cell_type": "markdown",
   "metadata": {},
   "source": [
    "# Problem 4.1\n",
    "\n",
    "We are given $P(A) = 0.4$ and $P(B) = 0.5$, and are assuming that $A$ and $B$ are independent.\n",
    "\n",
    "With that information, we are to find $P(\\tilde{A})$, $P(A \\cap B)$, and $P(A \\cup B)$."
   ]
  },
  {
   "cell_type": "code",
   "execution_count": 4,
   "metadata": {
    "collapsed": false
   },
   "outputs": [
    {
     "name": "stdout",
     "output_type": "stream",
     "text": [
      "  P(A) = 0.4\tP(B) = 0.5\n",
      "  P(Ã) = 0.6\tP(B̃) = 0.5\n",
      "▭━━━━━━━━━━━━━━━━━━━━━━━━━━━━━━━━━━━━━━━━━━▭\n",
      "  P(A⋂B) = 0.2\tP(A⋃B) = 0.7\n"
     ]
    }
   ],
   "source": [
    "A = 0.4; B = 0.5\n",
    "\n",
    "print(\"  P(A) = {0}\\tP(B) = {1}\".format(A,B))\n",
    "# P(not A) = 1 - P(A)\n",
    "print(\"  P(A\\u0303) = {0}\\tP(B\\u0303) = {1}\".format(1-A,1-B))\n",
    "\n",
    "sepline()\n",
    "\n",
    "# P(A intersection B) = P(A) * P(B), since A and B are independent\n",
    "print(\"  P(A\\u22c2B) = {0}\".format(A*B), end='\\t')\n",
    "\n",
    "# P(A union B) = P(A) + P(B) - P(A intersection B)\n",
    "print(\"P(A\\u22c3B) = {0}\".format(A + B - A*B))"
   ]
  },
  {
   "cell_type": "markdown",
   "metadata": {},
   "source": [
    "# Problem 4.2\n",
    "\n",
    "The same as Problem 4.1, but with $P(A) = 0.5$ and $P(B) = 0.3$, with $A$ and $B$ independent.\n",
    "\n",
    "Find $P(\\tilde{A})$, $P(A \\cap B)$, and $P(A \\cup B)$."
   ]
  },
  {
   "cell_type": "code",
   "execution_count": 5,
   "metadata": {
    "collapsed": false
   },
   "outputs": [
    {
     "name": "stdout",
     "output_type": "stream",
     "text": [
      "  P(A) = 0.5\tP(B) = 0.3\n",
      "  P(Ã) = 0.5\tP(B̃) = 0.7\n",
      "▭━━━━━━━━━━━━━━━━━━━━━━━━━━━━━━━━━━━━━━━━━━▭\n",
      "  P(A⋂B) = 0.15\tP(A⋃B) = 0.65\n"
     ]
    }
   ],
   "source": [
    "A = 0.5; B = 0.3\n",
    "\n",
    "print(\"  P(A) = {0}\\tP(B) = {1}\".format(A,B))\n",
    "# P(not A) = 1 - P(A)\n",
    "print(\"  P(A\\u0303) = {0}\\tP(B\\u0303) = {1}\".format(1-A,1-B))\n",
    "\n",
    "sepline()\n",
    "\n",
    "# P(A intersection B) = P(A) * P(B), since A and B are independent\n",
    "print(\"  P(A\\u22c2B) = {0}\".format(A*B), end='\\t')\n",
    "\n",
    "# P(A union B) = P(A) + P(B) - P(A intersection B)\n",
    "print(\"P(A\\u22c3B) = {0}\".format(A + B - A*B))"
   ]
  },
  {
   "cell_type": "markdown",
   "metadata": {},
   "source": [
    "# Problem 4.3\n",
    "\n",
    "We are given that $P(A) = 0.4$, $P(B) = 0.4$, and $P(\\tilde{A} \\cap B) = 0.24$.\n",
    "\n",
    "Are $A$ and $B$ independent? (Explain.)\n",
    "<p style=\"margin-left: 40px\">If $A$ and $B$ are independent, then $P(A \\cap B)$ should be $P(A) \\times P(B)$. Additionally, the marginal probability should show that $P(B) = P(A \\cap B) + P(\\tilde{A} \\cap B)$. We can check the independence of $A$ and $B$ by assuming they are, and seeing if this sum is equal to the given probability for $B$.</p>\n",
    "\n",
    "Find $P(A \\cup B)$."
   ]
  },
  {
   "cell_type": "code",
   "execution_count": 6,
   "metadata": {
    "collapsed": false
   },
   "outputs": [
    {
     "name": "stdout",
     "output_type": "stream",
     "text": [
      "P(A⋂B): P(A)∙P(B) = 0.16000000000000003\n",
      "P(B): 0.4\tP(A⋂B) + P(Ã⋂B) = 0.4\n"
     ]
    }
   ],
   "source": [
    "A = 0.4; B = 0.4; notA_and_B=0.24\n",
    "\n",
    "# Assuming A and B are independent\n",
    "print(\"P(A\\u22c2B): P(A)\\u2219P(B) = {0}\".format(A*B))\n",
    "\n",
    "# Compare the marignal probability to the given P(B)\n",
    "print(\"P(B): {0}\\tP(A\\u22c2B) + P(A\\u0303\\u22c2B) = {1}\".format(B,A*B+notA_and_B))"
   ]
  },
  {
   "cell_type": "markdown",
   "metadata": {},
   "source": [
    "Based on this result, we can conclude that $A$ and $B$ are independent. Thus, $P(A \\cup B)$ can be found easily."
   ]
  },
  {
   "cell_type": "code",
   "execution_count": 7,
   "metadata": {
    "collapsed": false
   },
   "outputs": [
    {
     "name": "stdout",
     "output_type": "stream",
     "text": [
      "P(A⋃B) = 0.64\n"
     ]
    }
   ],
   "source": [
    "print(\"P(A\\u22c3B) = {0}\".format(A+B-A*B))"
   ]
  },
  {
   "cell_type": "markdown",
   "metadata": {},
   "source": [
    "# Problem 4.4\n",
    "\n",
    "Same as in Problem 4.3, this time with $P(A) = 0.7$, $P(B) = 0.8$, and $P(\\tilde{A} \\cap \\tilde{B}) = 0.1$.\n",
    "<p style=\"margin-left: 40px\">This problem is trying to be tricky, but it's really no different from Problem 4.3. In fact, it's a bit easier: because if $A$ and $B$ are independent, then $\\tilde{A}$ and $\\tilde{B}$ must also be independent. So we can look at it as querying if $P(\\tilde{A} \\cap \\tilde{B}) = P(\\tilde{A}) \\times P(\\tilde{B})$.</p>"
   ]
  },
  {
   "cell_type": "code",
   "execution_count": 8,
   "metadata": {
    "collapsed": false
   },
   "outputs": [
    {
     "name": "stdout",
     "output_type": "stream",
     "text": [
      "P(Ã⋂B̃): 0.1\tP(Ã)∙P(B̃): 0.06\n"
     ]
    }
   ],
   "source": [
    "A = 0.7; B = 0.8; notA_and_notB = 0.1\n",
    "\n",
    "print(\"P(A\\u0303\\u22c2B\\u0303): {0}\\tP(A\\u0303)\\u2219P(B\\u0303): {1}\".format(notA_and_notB, (1-A)*(1-B)))"
   ]
  },
  {
   "cell_type": "markdown",
   "metadata": {},
   "source": [
    "This result leads us to conclude that in this case, $A$ and $B$ are _not_ independent. Finding the probability of the union is the same, though, and we just have to find $P(A \\cap B)$.\n",
    "<p style=\"margin-left: 40px\">$P(\\tilde{A}) = P(\\tilde{A} \\cap B) + P(\\tilde{A} \\cap \\tilde{B}) \\rightarrow P(\\tilde{A} \\cap B) = P(\\tilde{A}) - P(\\tilde{A} \\cap \\tilde{B})$</p>\n",
    "<p style=\"margin-left: 40px\">$P(B) = P(A \\cap B) + P(\\tilde{A} \\cap B) \\rightarrow P(A \\cap B) = P(B) - P(\\tilde{A} \\cap B)$</p>\n",
    "<p style=\"margin-left: 40px\">$P(A \\cap B) = P(B) - P(\\tilde{A}) + P(\\tilde{A} \\cap \\tilde{B}) = P(A) + P(B) + P(\\tilde{A} \\cap \\tilde{B}) - 1$"
   ]
  },
  {
   "cell_type": "code",
   "execution_count": 9,
   "metadata": {
    "collapsed": false
   },
   "outputs": [
    {
     "name": "stdout",
     "output_type": "stream",
     "text": [
      "P(A⋃B) = 0.8999999999999999\n"
     ]
    }
   ],
   "source": [
    "A_and_B = A + B + notA_and_notB - 1\n",
    "print(\"P(A\\u22c3B) = {0}\".format(A+B-A_and_B))"
   ]
  },
  {
   "cell_type": "markdown",
   "metadata": {},
   "source": [
    "# Problem 4.5\n",
    "\n",
    "In this problem, we consider a single, fair die. \n",
    "  * Define $A$ as \"the face is even\".\n",
    "  * Define $B$ as \"the face is divisible by 3\".\n",
    "\n",
    "Now we need to do the following:\n",
    "  * List out the sample space of the experiment.\n",
    "  * List the outcomes in $A$, and find $P(A)$.\n",
    "  * List the outcomes in $B$, and find $P(B)$.\n",
    "  * List the outcomes in $A \\cap B$, and find $P(A \\cap B)$.\n",
    "  * Determine if $A$ and $B$ are independent."
   ]
  },
  {
   "cell_type": "code",
   "execution_count": 10,
   "metadata": {
    "collapsed": false
   },
   "outputs": [
    {
     "name": "stdout",
     "output_type": "stream",
     "text": [
      "Sample Space: {1, 2, 3, 4, 5, 6}\n",
      "▭━━━━━━━━━━━━━━━━━━━━━━━━━━━━━━━━━━━━━━━━━━▭\n",
      "Outcomes in A: {2, 4, 6}\n",
      "P(A): 0.5\n",
      "▭━━━━━━━━━━━━━━━━━━━━━━━━━━━━━━━━━━━━━━━━━━▭\n",
      "Outcomes in B: {3, 6}\n",
      "P(B): 0.3333333333333333\n",
      "▭━━━━━━━━━━━━━━━━━━━━━━━━━━━━━━━━━━━━━━━━━━▭\n",
      "Outcomes in A⋂B: {6}\n",
      "P(A⋂B): 0.16666666666666666\n",
      "▭━━━━━━━━━━━━━━━━━━━━━━━━━━━━━━━━━━━━━━━━━━▭\n",
      "P(A⋂B): 0.16666666666666666\tP(A)∙P(B): 0.16666666666666666\n"
     ]
    }
   ],
   "source": [
    "# The sample space is just all possible outcomes.\n",
    "sample_space = set([1,2,3,4,5,6])\n",
    "print(\"Sample Space: {0}\".format(sample_space))\n",
    "sepline()\n",
    "\n",
    "# The outcomes for A are the even numbers in sample_space.\n",
    "A = set([side for side in sample_space if side%2==0])\n",
    "# and the probability is the size of the A space divided by the size of the sample space\n",
    "P_A = len(A)/len(sample_space)\n",
    "print(\"Outcomes in A: {0}\".format(A))\n",
    "print(\"P(A): {0}\".format(P_A))\n",
    "sepline()\n",
    "\n",
    "# The outcomes for B are the numbers divisible by 3 in sample_space.\n",
    "B = set([side for side in sample_space if side%3==0])\n",
    "P_B = len(B)/len(sample_space)\n",
    "print(\"Outcomes in B: {0}\".format(B))\n",
    "print(\"P(B): {0}\".format(P_B))\n",
    "sepline()\n",
    "\n",
    "# The outcomes in A intersect B are those that are in both A and B.\n",
    "AandB = A.intersection(B)\n",
    "P_AandB = len(AandB)/len(sample_space)\n",
    "print(\"Outcomes in A\\u22c2B: {0}\".format(AandB))\n",
    "print(\"P(A\\u22c2B): {0}\".format(P_AandB))\n",
    "sepline()\n",
    "\n",
    "# A and B will be independent if P_AandB = P_A * P_B\n",
    "print(\"P(A\\u22c2B): {0}\\tP(A)\\u2219P(B): {1}\".format(P_AandB,P_A*P_B))"
   ]
  },
  {
   "cell_type": "markdown",
   "metadata": {},
   "source": [
    "Since the last two values are equal, $A$ and $B$ must be independent.\n",
    "\n",
    "# Problem 4.6\n",
    "\n",
    "Similar to Problem 4.5, this time we have a red die and a green die.\n",
    "  * Define A as \"the sum of the two dice is 7\".\n",
    "  * Define B as \"the two thrown sides are equal\".\n",
    "  \n",
    "As before, we are to do the following:\n",
    "  * List the sample space\n",
    "  * List $A$ and $P(A)$\n",
    "  * List $B$ and $P(B)$\n",
    "  * List $A \\cap B$ and $P(A \\cap B)$\n",
    "  * Determine if $A$ and $B$ are independent\n",
    "  * Describe the relationship between $A$ and $B$"
   ]
  },
  {
   "cell_type": "code",
   "execution_count": 11,
   "metadata": {
    "collapsed": false
   },
   "outputs": [
    {
     "name": "stdout",
     "output_type": "stream",
     "text": [
      "Sample Space: {(1, 3), (6, 6), (5, 6), (2, 1), (6, 2), (1, 6), (5, 1), (2, 5), (1, 2), (3, 3), (5, 5), (4, 4), (6, 3), (1, 5), (3, 6), (2, 2), (4, 1), (1, 1), (6, 4), (3, 2), (2, 6), (5, 4), (4, 5), (5, 2), (1, 4), (2, 3), (4, 2), (6, 5), (3, 5), (5, 3), (4, 6), (6, 1), (3, 1), (4, 3), (3, 4), (2, 4)}\n",
      "▭━━━━━━━━━━━━━━━━━━━━━━━━━━━━━━━━━━━━━━━━━━▭\n",
      "Outcomes in A: {(6, 1), (5, 2), (1, 6), (4, 3), (2, 5), (3, 4)}\n",
      "P(A): 0.16666666666666666\n",
      "▭━━━━━━━━━━━━━━━━━━━━━━━━━━━━━━━━━━━━━━━━━━▭\n",
      "Outcomes in B: {(5, 5), (3, 3), (6, 6), (4, 4), (2, 2), (1, 1)}\n",
      "P(B): 0.16666666666666666\n",
      "▭━━━━━━━━━━━━━━━━━━━━━━━━━━━━━━━━━━━━━━━━━━▭\n",
      "Outcomes in A⋂B: set()\n",
      "P(A⋂B): 0.0\n",
      "▭━━━━━━━━━━━━━━━━━━━━━━━━━━━━━━━━━━━━━━━━━━▭\n",
      "P(A⋂B): 0.0\tP(A)∙P(B): 0.027777777777777776\n"
     ]
    }
   ],
   "source": [
    "# Sample space\n",
    "sample_space = set([(red,green) for red in range(1,7) for green in range(1,7)])\n",
    "print(\"Sample Space: {0}\".format(sample_space))\n",
    "sepline()\n",
    "\n",
    "# The outcomes for A are the elements that sum to 7.\n",
    "A = set([element for element in sample_space if sum(element)==7])\n",
    "# and the probability is the size of the A space divided by the size of the sample space\n",
    "P_A = len(A)/len(sample_space)\n",
    "print(\"Outcomes in A: {0}\".format(A))\n",
    "print(\"P(A): {0}\".format(P_A))\n",
    "sepline()\n",
    "\n",
    "# The outcomes for B are the elements with the same roll on both dice.\n",
    "B = set([element for element in sample_space if element[0]==element[1]])\n",
    "P_B = len(B)/len(sample_space)\n",
    "print(\"Outcomes in B: {0}\".format(B))\n",
    "print(\"P(B): {0}\".format(P_B))\n",
    "sepline()\n",
    "\n",
    "# The outcomes in A intersect B are those that are in both A and B.\n",
    "AandB = A.intersection(B)\n",
    "P_AandB = len(AandB)/len(sample_space)\n",
    "print(\"Outcomes in A\\u22c2B: {0}\".format(AandB))\n",
    "print(\"P(A\\u22c2B): {0}\".format(P_AandB))\n",
    "sepline()\n",
    "\n",
    "# A and B will be independent if P_AandB = P_A * P_B\n",
    "print(\"P(A\\u22c2B): {0}\\tP(A)\\u2219P(B): {1}\".format(P_AandB,P_A*P_B))"
   ]
  },
  {
   "cell_type": "markdown",
   "metadata": {},
   "source": [
    "In this problem, $A \\cap B$ is an empty set, because there is no way to roll the same number and have that add up to 7. This problem says that $A$ and $B$ are not independent, but is that really true?\n",
    "\n",
    "What you can say about $A$ and $B$ is that the two events are mutually exclusive.\n",
    "\n",
    "# Problem 4.7\n",
    "\n",
    "Similar to Problem 4.6, this time:\n",
    "  * Define $A$ as \"the sum of the faces is even\".\n",
    "  * Define $B$ as \"the sum of the faces is divisible by 3\".\n",
    "\n",
    "Then do the same procedure as before."
   ]
  },
  {
   "cell_type": "code",
   "execution_count": 12,
   "metadata": {
    "collapsed": false
   },
   "outputs": [
    {
     "name": "stdout",
     "output_type": "stream",
     "text": [
      "Sample Space: {(1, 3), (6, 6), (5, 6), (2, 1), (6, 2), (1, 6), (5, 1), (2, 5), (1, 2), (3, 3), (5, 5), (4, 4), (6, 3), (1, 5), (3, 6), (2, 2), (4, 1), (1, 1), (6, 4), (3, 2), (2, 6), (5, 4), (4, 5), (5, 2), (1, 4), (2, 3), (4, 2), (6, 5), (3, 5), (5, 3), (4, 6), (6, 1), (3, 1), (4, 3), (3, 4), (2, 4)}\n",
      "▭━━━━━━━━━━━━━━━━━━━━━━━━━━━━━━━━━━━━━━━━━━▭\n",
      "Outcomes in A: {(6, 4), (1, 3), (2, 6), (3, 3), (5, 5), (6, 6), (4, 6), (4, 4), (3, 1), (1, 5), (6, 2), (2, 4), (5, 3), (2, 2), (4, 2), (5, 1), (1, 1), (3, 5)}\n",
      "P(A): 0.5\n",
      "▭━━━━━━━━━━━━━━━━━━━━━━━━━━━━━━━━━━━━━━━━━━▭\n",
      "Outcomes in B: {(1, 2), (5, 4), (3, 3), (6, 6), (4, 5), (2, 1), (6, 3), (1, 5), (3, 6), (4, 2), (5, 1), (2, 4)}\n",
      "P(B): 0.3333333333333333\n",
      "▭━━━━━━━━━━━━━━━━━━━━━━━━━━━━━━━━━━━━━━━━━━▭\n",
      "Outcomes in A⋂B: {(5, 1), (3, 3), (6, 6), (1, 5), (4, 2), (2, 4)}\n",
      "P(A⋂B): 0.16666666666666666\n",
      "▭━━━━━━━━━━━━━━━━━━━━━━━━━━━━━━━━━━━━━━━━━━▭\n",
      "P(A⋂B): 0.16666666666666666\tP(A)∙P(B): 0.16666666666666666\n"
     ]
    }
   ],
   "source": [
    "# Sample space\n",
    "sample_space = set([(red,green) for red in range(1,7) for green in range(1,7)])\n",
    "print(\"Sample Space: {0}\".format(sample_space))\n",
    "sepline()\n",
    "\n",
    "# The outcomes for A are the elements that sum to an even number.\n",
    "A = set([element for element in sample_space if sum(element)%2==0])\n",
    "# and the probability is the size of the A space divided by the size of the sample space\n",
    "P_A = len(A)/len(sample_space)\n",
    "print(\"Outcomes in A: {0}\".format(A))\n",
    "print(\"P(A): {0}\".format(P_A))\n",
    "sepline()\n",
    "\n",
    "# The outcomes for B are the elements that sum to a number divisible by 3.\n",
    "B = set([element for element in sample_space if sum(element)%3==0])\n",
    "P_B = len(B)/len(sample_space)\n",
    "print(\"Outcomes in B: {0}\".format(B))\n",
    "print(\"P(B): {0}\".format(P_B))\n",
    "sepline()\n",
    "\n",
    "# The outcomes in A intersect B are those that are in both A and B.\n",
    "AandB = A.intersection(B)\n",
    "P_AandB = len(AandB)/len(sample_space)\n",
    "print(\"Outcomes in A\\u22c2B: {0}\".format(AandB))\n",
    "print(\"P(A\\u22c2B): {0}\".format(P_AandB))\n",
    "sepline()\n",
    "\n",
    "# A and B will be independent if P_AandB = P_A * P_B\n",
    "print(\"P(A\\u22c2B): {0}\\tP(A)\\u2219P(B): {1}\".format(P_AandB,P_A*P_B))"
   ]
  },
  {
   "cell_type": "markdown",
   "metadata": {},
   "source": [
    "These events are independent.\n",
    "\n",
    "# Problem 4.8\n",
    "\n",
    "Another similar problem, but this time the red die is loaded.\n",
    "  * Red die: $P(1) = P(2) = P(3) = P(4) = \\frac{1}{5}$, and $P(5) = P(6) = \\frac{1}{10}$\n",
    "Assume the green die is fair. Then use the following events:\n",
    "  * Define $A$ as \"the sum of the faces is even\".\n",
    "  * Define $B$ as \"the sum of the faces is divisible by three\".\n",
    "\n",
    "Since the red die is no longer fair, we have to change the Python code being used. This time, the elements must be weighted."
   ]
  },
  {
   "cell_type": "code",
   "execution_count": 13,
   "metadata": {
    "collapsed": false
   },
   "outputs": [
    {
     "name": "stdout",
     "output_type": "stream",
     "text": [
      "Sample Space: {(1, 3), (6, 6), (5, 6), (2, 1), (6, 2), (1, 6), (5, 1), (2, 5), (1, 2), (3, 3), (5, 5), (4, 4), (6, 3), (1, 5), (3, 6), (2, 2), (4, 1), (1, 1), (6, 4), (3, 2), (2, 6), (5, 4), (4, 5), (5, 2), (1, 4), (2, 3), (4, 2), (6, 5), (3, 5), (5, 3), (4, 6), (6, 1), (3, 1), (4, 3), (3, 4), (2, 4)}\n",
      "▭━━━━━━━━━━━━━━━━━━━━━━━━━━━━━━━━━━━━━━━━━━▭\n",
      "Outcomes in A: {(6, 4), (1, 3), (2, 6), (3, 3), (5, 5), (6, 6), (4, 6), (4, 4), (3, 1), (1, 5), (6, 2), (2, 4), (5, 3), (2, 2), (4, 2), (5, 1), (1, 1), (3, 5)}\n",
      "P(A): 1/2\n",
      "▭━━━━━━━━━━━━━━━━━━━━━━━━━━━━━━━━━━━━━━━━━━▭\n",
      "Outcomes in B: {(1, 2), (5, 4), (3, 3), (6, 6), (4, 5), (2, 1), (6, 3), (1, 5), (3, 6), (4, 2), (5, 1), (2, 4)}\n",
      "P(B): 1/3\n",
      "▭━━━━━━━━━━━━━━━━━━━━━━━━━━━━━━━━━━━━━━━━━━▭\n",
      "Outcomes in A⋂B: {(5, 1), (3, 3), (6, 6), (1, 5), (4, 2), (2, 4)}\n",
      "P(A⋂B): 1/6\n",
      "▭━━━━━━━━━━━━━━━━━━━━━━━━━━━━━━━━━━━━━━━━━━▭\n",
      "P(A⋂B): 1/6\tP(A)∙P(B): 1/6\n"
     ]
    }
   ],
   "source": [
    "# Sample space\n",
    "sample_space = set([(red,green) for red in range(1,7) for green in range(1,7)])\n",
    "print(\"Sample Space: {0}\".format(sample_space))\n",
    "sepline()\n",
    "\n",
    "# The outcomes for A are the elements that sum to an even number.\n",
    "A = set([element for element in sample_space if sum(element)%2==0])\n",
    "# Now we determine the weights for each element:\n",
    "W_A = np.array([frac(1,5)*frac(1,6) if element[0] in [1,2,3,4] else frac(1,10)*frac(1,6) for element in A])\n",
    "# And the total probability is just the sum of the weights\n",
    "P_A = sum(W_A)\n",
    "print(\"Outcomes in A: {0}\".format(A))\n",
    "print(\"P(A): {0}\".format(P_A))\n",
    "sepline()\n",
    "\n",
    "# The outcomes for B are the elements that sum to a number divisible by 3.\n",
    "B = set([element for element in sample_space if sum(element)%3==0])\n",
    "# Now we determine the weights and the total probability\n",
    "W_B = np.array([frac(1,5)*frac(1,6) if element[0] in [1,2,3,4] else frac(1,10)*frac(1,6) for element in B])\n",
    "P_B = sum(W_B)\n",
    "print(\"Outcomes in B: {0}\".format(B))\n",
    "print(\"P(B): {0}\".format(P_B))\n",
    "sepline()\n",
    "\n",
    "# The outcomes in A intersect B are those that are in both A and B.\n",
    "AandB = A.intersection(B)\n",
    "# Get the weights and total probability\n",
    "W_AandB = np.array([frac(1,5)*frac(1,6) if element[0] in [1,2,3,4] else frac(1,10)*frac(1,6) for element in AandB])\n",
    "P_AandB = sum(W_AandB)\n",
    "print(\"Outcomes in A\\u22c2B: {0}\".format(AandB))\n",
    "print(\"P(A\\u22c2B): {0}\".format(P_AandB))\n",
    "sepline()\n",
    "\n",
    "# A and B will be independent if P_AandB = P_A * P_B\n",
    "print(\"P(A\\u22c2B): {0}\\tP(A)\\u2219P(B): {1}\".format(P_AandB,P_A*P_B))"
   ]
  },
  {
   "cell_type": "markdown",
   "metadata": {},
   "source": [
    "Doing this problem with floating point numbers gives a very small rounding error between the two, but when we switch to using strict fractions, we get a result that indicates these variables are independent.\n",
    "\n",
    "I'm a little surprised that the weighted die seems to have no impact at all on the outcome--I can think of the following reasons that may be impacting this:\n",
    "  * There are the same number of both over- and under-weighted results included in A as are not--the weighting does not overall impact the probability of rolling an A versus not.\n",
    "  * The same goes for B.\n",
    "  * As a result, this particular weighting does not change the overall result.\n",
    "\n",
    "Which is why I'm confused; why on earth would the author make you do this if it has no impact on the result?!"
   ]
  },
  {
   "cell_type": "code",
   "execution_count": null,
   "metadata": {
    "collapsed": true
   },
   "outputs": [],
   "source": []
  }
 ],
 "metadata": {
  "anaconda-cloud": {},
  "kernelspec": {
   "display_name": "Python [default]",
   "language": "python",
   "name": "python3"
  },
  "language_info": {
   "codemirror_mode": {
    "name": "ipython",
    "version": 3
   },
   "file_extension": ".py",
   "mimetype": "text/x-python",
   "name": "python",
   "nbconvert_exporter": "python",
   "pygments_lexer": "ipython3",
   "version": "3.5.2"
  }
 },
 "nbformat": 4,
 "nbformat_minor": 1
}
