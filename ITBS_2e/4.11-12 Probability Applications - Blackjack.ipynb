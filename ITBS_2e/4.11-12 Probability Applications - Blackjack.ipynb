{
 "cells": [
  {
   "cell_type": "code",
   "execution_count": 1,
   "metadata": {
    "collapsed": false
   },
   "outputs": [
    {
     "data": {
      "application/json": {
       "Software versions": [
        {
         "module": "Python",
         "version": "3.5.2 64bit [GCC 4.2.1 Compatible Apple LLVM 4.2 (clang-425.0.28)]"
        },
        {
         "module": "IPython",
         "version": "5.1.0"
        },
        {
         "module": "OS",
         "version": "Darwin 15.6.0 x86_64 i386 64bit"
        }
       ]
      },
      "text/html": [
       "<table><tr><th>Software</th><th>Version</th></tr><tr><td>Python</td><td>3.5.2 64bit [GCC 4.2.1 Compatible Apple LLVM 4.2 (clang-425.0.28)]</td></tr><tr><td>IPython</td><td>5.1.0</td></tr><tr><td>OS</td><td>Darwin 15.6.0 x86_64 i386 64bit</td></tr><tr><td colspan='2'>Tue Oct 18 14:00:50 2016 MDT</td></tr></table>"
      ],
      "text/latex": [
       "\\begin{tabular}{|l|l|}\\hline\n",
       "{\\bf Software} & {\\bf Version} \\\\ \\hline\\hline\n",
       "Python & 3.5.2 64bit [GCC 4.2.1 Compatible Apple LLVM 4.2 (clang-425.0.28)] \\\\ \\hline\n",
       "IPython & 5.1.0 \\\\ \\hline\n",
       "OS & Darwin 15.6.0 x86\\_64 i386 64bit \\\\ \\hline\n",
       "\\hline \\multicolumn{2}{|l|}{Tue Oct 18 14:00:50 2016 MDT} \\\\ \\hline\n",
       "\\end{tabular}\n"
      ],
      "text/plain": [
       "Software versions\n",
       "Python 3.5.2 64bit [GCC 4.2.1 Compatible Apple LLVM 4.2 (clang-425.0.28)]\n",
       "IPython 5.1.0\n",
       "OS Darwin 15.6.0 x86_64 i386 64bit\n",
       "Tue Oct 18 14:00:50 2016 MDT"
      ]
     },
     "execution_count": 1,
     "metadata": {},
     "output_type": "execute_result"
    }
   ],
   "source": [
    "%matplotlib inline\n",
    "%load_ext version_information\n",
    "%version_information"
   ]
  },
  {
   "cell_type": "markdown",
   "metadata": {},
   "source": [
    "# Problem 4.11\n",
    "\n",
    "This problem asks us what the probability of dealing a blackjack is using 4 decks of cards.\n",
    "\n",
    "The book solution approaches this by ignoring the dealer--just dealing two cards from 4 decks. In this case, you can draw a blackjack by drawing an Ace and then a Face Card, by drawing a Face Card and then an Ace, by drawing an Ace and then a 10, or by drawing a 10 and then an Ace. With 4 decks, there are 208 cards. 16 of them are Aces, 16 are 10s, and 48 of them are Face Cards (thus 64 cards have a 10 value, if we lump the 10s with the Face Cards)."
   ]
  },
  {
   "cell_type": "code",
   "execution_count": 2,
   "metadata": {
    "collapsed": false
   },
   "outputs": [
    {
     "name": "stdout",
     "output_type": "stream",
     "text": [
      "Probability of dealing a blackjack in the first two cards:\n",
      "\t4.76%\n"
     ]
    }
   ],
   "source": [
    "# Probabilities for first drawn card\n",
    "P_A = 16/208\n",
    "P_F = 64/208\n",
    "\n",
    "# Probabilities for second drawn card given the potential first draw\n",
    "P_AgivenA = 15/207\n",
    "P_AgivenF = 16/207\n",
    "\n",
    "P_FgivenA = 64/207\n",
    "P_FgivenF = 63/207\n",
    "\n",
    "P_blackjack = P_A*P_FgivenA + P_F*P_AgivenF\n",
    "\n",
    "print(\"Probability of dealing a blackjack in the first two cards:\")\n",
    "print(\"\\t{0:.2f}%\".format(100*P_blackjack))"
   ]
  },
  {
   "cell_type": "markdown",
   "metadata": {},
   "source": [
    "This changes, though, if we include the dealer, because each person is dealt one card at a time. Let's catalog all the possible deals that lead to a player blackjack. We'll group the 10s in with the face cards to simplify, since the cards all have the same effect. In this notation, A is ace, F is a 10 or a face card, and O is anything else:\n",
    "  * Player gets A/F: AAF, AFF, AOF\n",
    "  * Player gets F/A: FAA, FFA, FOA"
   ]
  },
  {
   "cell_type": "code",
   "execution_count": 3,
   "metadata": {
    "collapsed": false
   },
   "outputs": [
    {
     "name": "stdout",
     "output_type": "stream",
     "text": [
      "Probability of dealing a blackjack including the card sent to the dealer:\n",
      "\t4.76%\n"
     ]
    }
   ],
   "source": [
    "# First draw probabilities\n",
    "P_A1 = 16/208\n",
    "P_F1 = 64/208\n",
    "P_O1 = 128/208\n",
    "\n",
    "# Second draw probabilities\n",
    "P_A2A = 15/207\n",
    "P_A2F = 16/207\n",
    "P_A2O = 16/207\n",
    "P_F2A = 64/207\n",
    "P_F2F = 63/207\n",
    "P_F2O = 62/207\n",
    "P_O2A = 128/207\n",
    "P_O2F = 128/207\n",
    "P_O2O = 127/207\n",
    "\n",
    "# Third draw probabilities\n",
    "P_A3AA = 14/206\n",
    "P_A3AF = 15/206\n",
    "P_A3AO = 15/206\n",
    "P_A3FA = 15/206\n",
    "P_A3FF = 16/206\n",
    "P_A3FO = 16/206\n",
    "P_A3OA = 15/206\n",
    "P_A3OF = 16/206\n",
    "P_A3OO = 16/206\n",
    "P_F3AA = 64/206\n",
    "P_F3AF = 63/206\n",
    "P_F3AO = 64/206\n",
    "P_F3FA = 63/206\n",
    "P_F3FF = 62/206\n",
    "P_F3FO = 63/206\n",
    "P_F3OA = 64/206\n",
    "P_F3OF = 63/206\n",
    "P_F3OO = 64/206\n",
    "\n",
    "P_AAF = P_A1*P_A2A*P_F3AA\n",
    "P_AFF = P_A1*P_F2A*P_F3AF\n",
    "P_AOF = P_A1*P_O2A*P_F3AO\n",
    "P_FAA = P_F1*P_A2F*P_A3FA\n",
    "P_FFA = P_F1*P_F2F*P_A3FF\n",
    "P_FOA = P_F1*P_O2F*P_A3FO\n",
    "\n",
    "print(\"Probability of dealing a blackjack including the card sent to the dealer:\")\n",
    "print(\"\\t{0:.2f}%\".format(100*(P_AAF+P_AFF+P_AOF+P_FAA+P_FFA+P_FOA)))"
   ]
  },
  {
   "cell_type": "code",
   "execution_count": 4,
   "metadata": {
    "collapsed": false
   },
   "outputs": [
    {
     "name": "stdout",
     "output_type": "stream",
     "text": [
      "Difference: 0.0\n"
     ]
    }
   ],
   "source": [
    "# Are these actually different?\n",
    "print(\"Difference: {0}\".format(P_blackjack - (P_AAF+P_AFF+P_AOF+P_FAA+P_FFA+P_FOA)))"
   ]
  },
  {
   "cell_type": "markdown",
   "metadata": {},
   "source": [
    "I'm a little surprised at that. But I suppose it makes sense--how is it any different having a blackjack in the first two cards as opposed to the first and third cards?\n",
    "\n",
    "# Problem 4.12\n",
    "\n",
    "Now we do the same thing, but for the second hand, assuming the first hand (problem specifies 4 cards, none of which were an A, F, or 10) was discarded, and not reshuffled. In this case, the number of Aces remains 16, and the number of Face Cards/10s remains 64, but the number of cards remaining in the deck is 204.\n",
    "\n",
    "I will only do the first method, since I've established that including the dealer's first card is irrelevant."
   ]
  },
  {
   "cell_type": "code",
   "execution_count": 5,
   "metadata": {
    "collapsed": false
   },
   "outputs": [
    {
     "name": "stdout",
     "output_type": "stream",
     "text": [
      "Probability of dealing a blackjack in the first two cards:\n",
      "\t4.95%\n"
     ]
    }
   ],
   "source": [
    "# Probabilities for first drawn card\n",
    "P_A = 16/204\n",
    "P_F = 64/204\n",
    "\n",
    "# Probabilities for second drawn card given the potential first draw\n",
    "P_AgivenA = 15/203\n",
    "P_AgivenF = 16/203\n",
    "\n",
    "P_FgivenA = 64/203\n",
    "P_FgivenF = 63/203\n",
    "\n",
    "P_blackjack = P_A*P_FgivenA + P_F*P_AgivenF\n",
    "\n",
    "print(\"Probability of dealing a blackjack in the first two cards:\")\n",
    "print(\"\\t{0:.2f}%\".format(100*P_blackjack))"
   ]
  },
  {
   "cell_type": "markdown",
   "metadata": {},
   "source": [
    "This could be interpreted differently, as the problem specifies that you see 4 face-up cards. Presumably this includes the player's face-down card, so this suggests that 5 cards were dealt, one of which could be an Ace, Face Card, or 10.\n",
    "  * Unknown is Ace: AAF, AFA\n",
    "  * Unknown is Face Card/10: FAF, FFA\n",
    "  * Unknown is Other: OAF, OFA"
   ]
  },
  {
   "cell_type": "code",
   "execution_count": 6,
   "metadata": {
    "collapsed": false
   },
   "outputs": [
    {
     "name": "stdout",
     "output_type": "stream",
     "text": [
      "Probability of dealing a blackjack in the first two cards:\n",
      "\t4.95%\n"
     ]
    }
   ],
   "source": [
    "# Probabilities for each outcome\n",
    "P_AAF = 16/204*15/203*64/202\n",
    "P_AFA = 16/204*64/203*15/202\n",
    "P_FAF = 64/204*16/203*63/202\n",
    "P_FFA = 64/204*63/203*16/202\n",
    "P_OAF = 124/204*16/203*64/202\n",
    "P_OFA = 124/204*64/203*16/202\n",
    "\n",
    "P_blackjack = P_AAF + P_AFA + P_FAF + P_FFA + P_OAF + P_OFA\n",
    "\n",
    "print(\"Probability of dealing a blackjack in the first two cards:\")\n",
    "print(\"\\t{0:.2f}%\".format(100*P_blackjack))"
   ]
  },
  {
   "cell_type": "markdown",
   "metadata": {},
   "source": [
    "Once again, this doesn't change the answer, because the unknown card is equivalent to re-positioning which cards we draw from."
   ]
  },
  {
   "cell_type": "code",
   "execution_count": null,
   "metadata": {
    "collapsed": true
   },
   "outputs": [],
   "source": []
  }
 ],
 "metadata": {
  "anaconda-cloud": {},
  "kernelspec": {
   "display_name": "Python [default]",
   "language": "python",
   "name": "python3"
  },
  "language_info": {
   "codemirror_mode": {
    "name": "ipython",
    "version": 3
   },
   "file_extension": ".py",
   "mimetype": "text/x-python",
   "name": "python",
   "nbconvert_exporter": "python",
   "pygments_lexer": "ipython3",
   "version": "3.5.2"
  }
 },
 "nbformat": 4,
 "nbformat_minor": 1
}
