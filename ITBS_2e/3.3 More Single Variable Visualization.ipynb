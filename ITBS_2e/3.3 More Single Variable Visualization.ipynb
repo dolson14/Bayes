{
 "cells": [
  {
   "cell_type": "code",
   "execution_count": 1,
   "metadata": {
    "collapsed": true
   },
   "outputs": [],
   "source": [
    "%matplotlib inline\n",
    "\n",
    "import numpy as np\n",
    "import matplotlib.pyplot as plt\n",
    "import pandas as pd\n",
    "from tqdm import tqdm_notebook as tqdm\n",
    "\n",
    "gold = 8.*np.array([1,1/((1+np.sqrt(5))/2)])\n",
    "\n",
    "# This function makes the plots look prettier on GitHub. \n",
    "### to do: figure out how to make this automatic.\n",
    "\n",
    "def fix_boxplot(parts):\n",
    "    for m in parts['fliers']:\n",
    "        m.set_markersize(12)\n",
    "        m.set_markeredgewidth(1)\n",
    "    for b in parts['boxes']:\n",
    "        b.set_linewidth(2)\n",
    "    for w in parts['whiskers']:\n",
    "        w.set_linewidth(2)\n",
    "    for c in parts['caps']:\n",
    "        c.set_linewidth(2)\n",
    "    for m in parts['medians']:\n",
    "        m.set_linewidth(2)\n",
    "    for m in parts['means']:\n",
    "        m.set_linewidth(2)\n",
    "        m.set_color('g')\n",
    "        m.set_markerfacecolor('g')\n",
    "\n",
    "# This function creates the stem and leaf plot\n",
    "def stem(data,leaf_dig=1):\n",
    "    sorted_data = data.copy()\n",
    "    sorted_data.sort()\n",
    "    stem = (sorted_data // (10**leaf_dig)).astype(int)\n",
    "    if leaf_dig>0:\n",
    "        leaf = (sorted_data % (10**leaf_dig)).astype(int)\n",
    "    else:\n",
    "        leaf = (sorted_data % (10**leaf_dig) * (10**(1-leaf_dig))).astype(int)\n",
    "    current_stem = -1\n",
    "    for s,l in zip(stem,leaf):\n",
    "        if s != current_stem:\n",
    "            current_stem = s\n",
    "            print(\"\\n{0:4d} | \".format(s),end='')\n",
    "        print(\"{0} \".format(l),end='')"
   ]
  },
  {
   "cell_type": "markdown",
   "metadata": {},
   "source": [
    "# Problem 3.3\n",
    "\n",
    "This problem is a combination of 3.1 and 3.2, but requires me to do more of the work.\n",
    "\n",
    "Again, the data values have been changed to my own."
   ]
  },
  {
   "cell_type": "code",
   "execution_count": 2,
   "metadata": {
    "collapsed": false
   },
   "outputs": [
    {
     "data": {
      "text/plain": [
       "array([ 149.1,  149.1,  150.1,  149.6,  149.9,  150.5,  149.9,  149.7,\n",
       "        149.9,  150.4,  150.2,  150.4,  149.9,  149.6,  150.2,  149.3,\n",
       "        150.6,  150.2,  150.4,  149.8,  150.5,  150.2,  150.4,  150.6,\n",
       "        150.6,  150.5,  149.2,  149.3,  150.3,  150.6,  149.9,  149.5,\n",
       "        149.2,  150.5,  149.1,  150. ,  150.2,  149.7,  150.4,  150. ,\n",
       "        150.2,  149.7,  149.8,  148.6,  150.4,  150.9,  149.8,  149.3,\n",
       "        150.1,  150.3])"
      ]
     },
     "execution_count": 2,
     "metadata": {},
     "output_type": "execute_result"
    }
   ],
   "source": [
    "distance = np.round(np.random.normal(150.,0.5,size=50),1)\n",
    "distance"
   ]
  },
  {
   "cell_type": "markdown",
   "metadata": {},
   "source": [
    "### Part A\n",
    "\n",
    "Stem and leaf. Using the first decimal place as the leaf (leaf_dig = 0)"
   ]
  },
  {
   "cell_type": "code",
   "execution_count": 3,
   "metadata": {
    "collapsed": false
   },
   "outputs": [
    {
     "name": "stdout",
     "output_type": "stream",
     "text": [
      "\n",
      " 148 | 5 \n",
      " 149 | 0 0 0 1 1 3 3 3 5 5 5 6 6 6 8 8 8 9 9 9 9 9 \n",
      " 150 | 0 0 0 0 1 1 1 1 1 1 3 3 4 4 4 4 4 4 5 5 5 5 5 5 5 5 9 "
     ]
    }
   ],
   "source": [
    "stem(distance,0)"
   ]
  },
  {
   "cell_type": "markdown",
   "metadata": {},
   "source": [
    "### Part B\n",
    "\n",
    "Quartiles."
   ]
  },
  {
   "cell_type": "code",
   "execution_count": 4,
   "metadata": {
    "collapsed": false
   },
   "outputs": [
    {
     "name": "stdout",
     "output_type": "stream",
     "text": [
      "Meidan: 150.05\n",
      "    Q1: 149.7\n",
      "    Q3: 150.4\n"
     ]
    }
   ],
   "source": [
    "print(\"Meidan: {0}\".format(np.percentile(distance,50)))\n",
    "print(\"    Q1: {0}\".format(np.percentile(distance,25)))\n",
    "print(\"    Q3: {0}\".format(np.percentile(distance,75)))"
   ]
  },
  {
   "cell_type": "markdown",
   "metadata": {},
   "source": [
    "### Part C\n",
    "Boxplot."
   ]
  },
  {
   "cell_type": "code",
   "execution_count": 5,
   "metadata": {
    "collapsed": false
   },
   "outputs": [
    {
     "data": {
      "image/png": "[encoded data removed]",
      "text/plain": [
       "<matplotlib.figure.Figure at 0x106d22c18>"
      ]
     },
     "metadata": {},
     "output_type": "display_data"
    }
   ],
   "source": [
    "parts = plt.boxplot(distance,vert=False,labels=['Distance'])\n",
    "plt.xticks(fontsize=16)\n",
    "plt.yticks(fontsize=16)\n",
    "plt.axis([148.5,151.5,0.75,1.25])\n",
    "fix_boxplot(parts)"
   ]
  },
  {
   "cell_type": "markdown",
   "metadata": {},
   "source": [
    "### Part D\n",
    "Frequency Table."
   ]
  },
  {
   "cell_type": "code",
   "execution_count": 6,
   "metadata": {
    "collapsed": false
   },
   "outputs": [
    {
     "name": "stdout",
     "output_type": "stream",
     "text": [
      "    Boundaries\t    Frequency\n",
      "------------------------------\n",
      "148.0 < x <= 149.0\t1\n",
      "149.0 < x <= 149.4\t8\n",
      "149.4 < x <= 149.6\t3\n",
      "149.6 < x <= 149.8\t6\n",
      "149.8 < x <= 150.0\t7\n",
      "150.0 < x <= 150.2\t8\n",
      "150.2 < x <= 150.4\t8\n",
      "150.4 < x <= 150.6\t8\n",
      "150.6 < x <= 151.0\t1\n",
      "151.0 < x <= 152.0\t0\n"
     ]
    }
   ],
   "source": [
    "boundaries = np.array([148.0,149.0,149.4,149.6,149.8,150.0,150.2,150.4,150.6,151.0,152.])\n",
    "frequency = np.array([sum((distance>boundaries[i]) & (distance<=boundaries[i+1])) for i in range(len(boundaries)-1)])\n",
    "print(\"    Boundaries\\t    Frequency\")\n",
    "print(\"-\"*30)\n",
    "for i in range(len(boundaries)-1):\n",
    "    print(\"{0:.1f} < x <= {1:.1f}\\t{2}\".format(boundaries[i],boundaries[i+1],frequency[i]))"
   ]
  },
  {
   "cell_type": "markdown",
   "metadata": {},
   "source": [
    "### Part E\n",
    "Histogram."
   ]
  },
  {
   "cell_type": "code",
   "execution_count": 7,
   "metadata": {
    "collapsed": false
   },
   "outputs": [
    {
     "data": {
      "text/plain": [
       "<matplotlib.text.Text at 0x11767d978>"
      ]
     },
     "execution_count": 7,
     "metadata": {},
     "output_type": "execute_result"
    },
    {
     "data": {
      "image/png": "[encoded data removed]",
      "text/plain": [
       "<matplotlib.figure.Figure at 0x11741d828>"
      ]
     },
     "metadata": {},
     "output_type": "display_data"
    }
   ],
   "source": [
    "widths = boundaries[1:]-boundaries[:-1]\n",
    "plt.bar(boundaries[:-1],frequency/widths,width=widths,color=\"#7777aa\")\n",
    "plt.xticks(boundaries,fontsize=14,rotation='vertical')\n",
    "plt.yticks(fontsize=14)\n",
    "plt.xlabel(\"Distance\",fontsize=18)\n",
    "plt.ylabel(\"Frequency\",fontsize=18)"
   ]
  },
  {
   "cell_type": "markdown",
   "metadata": {},
   "source": [
    "### Part F\n",
    "Cumulative Frequency."
   ]
  },
  {
   "cell_type": "code",
   "execution_count": 8,
   "metadata": {
    "collapsed": false
   },
   "outputs": [
    {
     "data": {
      "text/plain": [
       "<matplotlib.legend.Legend at 0x117947940>"
      ]
     },
     "execution_count": 8,
     "metadata": {},
     "output_type": "execute_result"
    },
    {
     "data": {
      "image/png": "[encoded data removed]",
      "text/plain": [
       "<matplotlib.figure.Figure at 0x1177b6518>"
      ]
     },
     "metadata": {},
     "output_type": "display_data"
    }
   ],
   "source": [
    "CF = np.cumsum(frequency)\n",
    "CF.resize(len(CF)+1)\n",
    "CF = np.roll(CF,1)\n",
    "plt.plot(boundaries,CF,'-s',linewidth=3,label=\"CF\")\n",
    "plt.plot([148,152],0.25*sum(frequency)*np.ones(2),'--',label=\"Q1\")\n",
    "plt.plot([148,152],0.5*sum(frequency)*np.ones(2),'--',label=\"Median\")\n",
    "plt.plot([148,152],0.75*sum(frequency)*np.ones(2),'--',label=\"Q3\")\n",
    "plt.xticks(fontsize=14)\n",
    "plt.yticks(fontsize=14)\n",
    "plt.xlabel(\"Distance\",fontsize=18)\n",
    "plt.ylabel(\"Cumulative Frequency\",fontsize=18)\n",
    "plt.legend(loc='lower right')"
   ]
  },
  {
   "cell_type": "code",
   "execution_count": null,
   "metadata": {
    "collapsed": true
   },
   "outputs": [],
   "source": []
  }
 ],
 "metadata": {
  "anaconda-cloud": {},
  "kernelspec": {
   "display_name": "Python [default]",
   "language": "python",
   "name": "python3"
  },
  "language_info": {
   "codemirror_mode": {
    "name": "ipython",
    "version": 3
   },
   "file_extension": ".py",
   "mimetype": "text/x-python",
   "name": "python",
   "nbconvert_exporter": "python",
   "pygments_lexer": "ipython3",
   "version": "3.5.2"
  }
 },
 "nbformat": 4,
 "nbformat_minor": 1
}
