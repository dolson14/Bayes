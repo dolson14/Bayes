{
 "cells": [
  {
   "cell_type": "markdown",
   "metadata": {},
   "source": [
    "# Chapter 2: A Little More on PyMC"
   ]
  },
  {
   "cell_type": "code",
   "execution_count": 1,
   "metadata": {
    "ExecuteTime": {
     "end_time": "2017-06-08T17:29:01.129541Z",
     "start_time": "2017-06-08T17:28:58.873727Z"
    }
   },
   "outputs": [
    {
     "data": {
      "application/json": {
       "Software versions": [
        {
         "module": "Python",
         "version": "3.6.1 64bit [GCC 4.2.1 Compatible Apple LLVM 6.0 (clang-600.0.57)]"
        },
        {
         "module": "IPython",
         "version": "6.1.0"
        },
        {
         "module": "OS",
         "version": "Darwin 16.6.0 x86_64 i386 64bit"
        },
        {
         "module": "matplotlib",
         "version": "2.0.2"
        },
        {
         "module": "numpy",
         "version": "1.12.1"
        },
        {
         "module": "pymc3",
         "version": "3.0"
        },
        {
         "module": "scipy",
         "version": "0.19.0"
        },
        {
         "module": "theano",
         "version": "0.9.0.dev-c697eeab84e5b8a74908da654b66ec9eca4f1291"
        }
       ]
      },
      "text/html": [
       "<table><tr><th>Software</th><th>Version</th></tr><tr><td>Python</td><td>3.6.1 64bit [GCC 4.2.1 Compatible Apple LLVM 6.0 (clang-600.0.57)]</td></tr><tr><td>IPython</td><td>6.1.0</td></tr><tr><td>OS</td><td>Darwin 16.6.0 x86_64 i386 64bit</td></tr><tr><td>matplotlib</td><td>2.0.2</td></tr><tr><td>numpy</td><td>1.12.1</td></tr><tr><td>pymc3</td><td>3.0</td></tr><tr><td>scipy</td><td>0.19.0</td></tr><tr><td>theano</td><td>0.9.0.dev-c697eeab84e5b8a74908da654b66ec9eca4f1291</td></tr><tr><td colspan='2'>Thu Jun 08 11:29:01 2017 MDT</td></tr></table>"
      ],
      "text/latex": [
       "\\begin{tabular}{|l|l|}\\hline\n",
       "{\\bf Software} & {\\bf Version} \\\\ \\hline\\hline\n",
       "Python & 3.6.1 64bit [GCC 4.2.1 Compatible Apple LLVM 6.0 (clang-600.0.57)] \\\\ \\hline\n",
       "IPython & 6.1.0 \\\\ \\hline\n",
       "OS & Darwin 16.6.0 x86\\_64 i386 64bit \\\\ \\hline\n",
       "matplotlib & 2.0.2 \\\\ \\hline\n",
       "numpy & 1.12.1 \\\\ \\hline\n",
       "pymc3 & 3.0 \\\\ \\hline\n",
       "scipy & 0.19.0 \\\\ \\hline\n",
       "theano & 0.9.0.dev-c697eeab84e5b8a74908da654b66ec9eca4f1291 \\\\ \\hline\n",
       "\\hline \\multicolumn{2}{|l|}{Thu Jun 08 11:29:01 2017 MDT} \\\\ \\hline\n",
       "\\end{tabular}\n"
      ],
      "text/plain": [
       "Software versions\n",
       "Python 3.6.1 64bit [GCC 4.2.1 Compatible Apple LLVM 6.0 (clang-600.0.57)]\n",
       "IPython 6.1.0\n",
       "OS Darwin 16.6.0 x86_64 i386 64bit\n",
       "matplotlib 2.0.2\n",
       "numpy 1.12.1\n",
       "pymc3 3.0\n",
       "scipy 0.19.0\n",
       "theano 0.9.0.dev-c697eeab84e5b8a74908da654b66ec9eca4f1291\n",
       "Thu Jun 08 11:29:01 2017 MDT"
      ]
     },
     "execution_count": 1,
     "metadata": {},
     "output_type": "execute_result"
    }
   ],
   "source": [
    "%matplotlib inline\n",
    "%load_ext version_information\n",
    "\n",
    "# Standard Library\n",
    "\n",
    "# Third Party Libraries\n",
    "import matplotlib as mpl\n",
    "import matplotlib.pyplot as plt\n",
    "import numpy as np\n",
    "import pymc3 as pm\n",
    "import scipy.stats as stats\n",
    "import theano.compile as tc\n",
    "import theano.tensor as tt\n",
    "from tqdm import tqdm_notebook as tqdm\n",
    "\n",
    "# Local Libraries\n",
    "\n",
    "# Local Definitions\n",
    "plt.rcParams[\"font.size\"] = 18\n",
    "\n",
    "%version_information matplotlib,numpy,pymc3,scipy,theano"
   ]
  },
  {
   "cell_type": "markdown",
   "metadata": {},
   "source": [
    "## Deterministic Variables\n",
    "\n",
    "The online documentation for working with deterministic variables in pymc3 is confusing at best. Theano is used as the back-end for pymc3 variables, but it's not always clear how to use it. For simple functions of variables, you can use a notation similar to what was used in pymc2, but without the need for a decorator. (Some documentation claims you have to use the ```@theano.compile.ops.as_op``` decorator, but if that was at any point true, it no longer is. It's unclear whether that notation is useful in more complicated setups or not, but I should keep it in mind.)\n",
    "\n",
    "In any case, simple deterministic variables can be declared in this way:"
   ]
  },
  {
   "cell_type": "code",
   "execution_count": 31,
   "metadata": {
    "ExecuteTime": {
     "end_time": "2017-06-08T17:47:49.283391Z",
     "start_time": "2017-06-08T17:47:48.476862Z"
    }
   },
   "outputs": [
    {
     "name": "stderr",
     "output_type": "stream",
     "text": [
      "100%|██████████| 1/1 [00:00<00:00,  1.72it/s]"
     ]
    },
    {
     "name": "stdout",
     "output_type": "stream",
     "text": [
      "[x, y] [z]\n",
      "5.78692995688 7.04326620292 86.3791425718\n",
      "86.3791425718\n"
     ]
    },
    {
     "name": "stderr",
     "output_type": "stream",
     "text": [
      "\n"
     ]
    }
   ],
   "source": [
    "def f(x, y):\n",
    "    return 3*x**2 - 2*y\n",
    "\n",
    "with pm.Model() as model1:\n",
    "    x = pm.Normal(\"x\", 5, 2)\n",
    "    y = pm.Normal(\"y\", 8, 3)\n",
    "\n",
    "    z = pm.Deterministic(\"z\", f(x,y))\n",
    "    \n",
    "    # pymc3 variables don't have a .value attribute like they do in pymc2,\n",
    "    # but we can get a single random draw by tracing 1 step. No need to do\n",
    "    # a tune or init, so just drop n_init to 0. That requires the Metropolis()\n",
    "    # stepper; NUTS will have a fit without at least n_init = 10.\n",
    "    # New alternative: no init at all.\n",
    "    trace = pm.sample(1, init=None, step=pm.Metropolis())\n",
    "    \n",
    "print(model1.basic_RVs, model1.deterministics)\n",
    "print(trace['x'][0], trace['y'][0], trace['z'][0])\n",
    "print(f(trace['x'][0], trace['y'][0]))"
   ]
  },
  {
   "cell_type": "markdown",
   "metadata": {},
   "source": [
    "Supposedly, if that doesn't work, we should try using the ```theano.compile.ops.as_op``` decorator, like this:"
   ]
  },
  {
   "cell_type": "code",
   "execution_count": 3,
   "metadata": {
    "ExecuteTime": {
     "end_time": "2017-06-08T17:29:02.739449Z",
     "start_time": "2017-06-08T17:29:02.486683Z"
    }
   },
   "outputs": [
    {
     "name": "stderr",
     "output_type": "stream",
     "text": [
      "100%|██████████| 1/1 [00:00<00:00, 68.48it/s]"
     ]
    },
    {
     "name": "stdout",
     "output_type": "stream",
     "text": [
      "[x, y] [z]\n",
      "4.99780805683 8.68073180712 69.0416397874\n",
      "69.0416397874\n"
     ]
    },
    {
     "name": "stderr",
     "output_type": "stream",
     "text": [
      "\n"
     ]
    }
   ],
   "source": [
    "@tc.ops.as_op(itypes=[tt.dscalar, tt.dscalar], otypes = [tt.dscalar])\n",
    "def g(x, y):\n",
    "    return 3*x**2-2*np.sqrt(y)\n",
    "\n",
    "with pm.Model() as model2:\n",
    "    x = pm.Normal(\"x\", 5, 2)\n",
    "    y = pm.Normal(\"y\", 8, 3)\n",
    "    \n",
    "    z = pm.Deterministic(\"z\", g(x, y))\n",
    "\n",
    "    trace = pm.sample(1, init=None, step=pm.Metropolis())\n",
    "    \n",
    "print(model2.basic_RVs, model2.deterministics)\n",
    "print(trace['x'][0], trace['y'][0], trace['z'][0])\n",
    "print(f(trace['x'][0], trace['y'][0]))"
   ]
  },
  {
   "cell_type": "markdown",
   "metadata": {},
   "source": [
    "From what I've been able to glean, ```itypes``` is a list of the data types for inputs, ```otypes``` the same for the outputs. Each is either a scalar or a vector, and the single-letter prefix corresponds to the following:\n",
    "\n",
    "Integers:\n",
    "  * b:  int8  (byte)\n",
    "  * w:  int16 (word)\n",
    "  * i:  int32 (int)\n",
    "  * l:  int64 (long)\n",
    "\n",
    "Floating Points:\n",
    "  * f:  float32 (float)\n",
    "  * d:  float64 (double)\n",
    "\n",
    "Complex Numbers:\n",
    "  * c:  complex64  (64-bit complex)\n",
    "  * z:  complex128 (128-bit complex)\n",
    "\n",
    "So with the above example, we are using double precision (64-bit) floating point scalars for the two inputs and for the one output. Whether the decorator is necessary or not remains unclear at this point. *(Does pm.Deterministic automatically cast it with this decorator? The context help for it seems to indicate that the argument is expecting theano variables; perhaps theano is polymorphic enough to handle simple functions as needed? Maybe try an example with a vector.)*"
   ]
  },
  {
   "cell_type": "code",
   "execution_count": 4,
   "metadata": {
    "ExecuteTime": {
     "end_time": "2017-06-08T17:29:06.358570Z",
     "start_time": "2017-06-08T17:29:06.043928Z"
    }
   },
   "outputs": [
    {
     "name": "stderr",
     "output_type": "stream",
     "text": [
      "100%|██████████| 1/1 [00:00<00:00, 48.74it/s]"
     ]
    },
    {
     "name": "stdout",
     "output_type": "stream",
     "text": [
      "[x, y] [z]\n",
      "[ 5.  5.  5.] [ 7.4015353   6.73961433  8.97208191] 10.7501701243\n",
      "10.7501701243\n"
     ]
    },
    {
     "name": "stderr",
     "output_type": "stream",
     "text": [
      "\n"
     ]
    }
   ],
   "source": [
    "def dot(x, y):\n",
    "    return (x*y).sum()    # Caveat here; can't use np.sum(x*y), need to use \n",
    "                          # the built-in sum() method of the theano variable\n",
    "                          # objects. np.array() objects have the same, so \n",
    "                          # this is more general anyway.\n",
    "\n",
    "with pm.Model() as model3:\n",
    "    x = pm.Normal(\"x\", 5, 2, shape=(3,))\n",
    "    y = pm.Normal(\"y\", 8, 3, shape=(3,))\n",
    "    \n",
    "    z = pm.Deterministic(\"z\", np.sqrt(dot(x, y)))\n",
    "    \n",
    "    trace = pm.sample(1, init=None, step=pm.Metropolis())\n",
    "    \n",
    "print(model3.basic_RVs, model3.deterministics)\n",
    "print(trace['x'][0], trace['y'][0], trace['z'][0])\n",
    "print(np.sqrt(dot(trace['x'][0], trace['y'][0])))"
   ]
  },
  {
   "cell_type": "markdown",
   "metadata": {},
   "source": [
    "Well, that seemed to work alright, with one issue: numpy functions may not always work generally, so it's best to use the object methods directly, as theano variables seem to inherit the numpy methods."
   ]
  },
  {
   "cell_type": "code",
   "execution_count": 5,
   "metadata": {
    "ExecuteTime": {
     "end_time": "2017-06-08T17:29:09.265703Z",
     "start_time": "2017-06-08T17:29:09.036249Z"
    }
   },
   "outputs": [
    {
     "name": "stderr",
     "output_type": "stream",
     "text": [
      "100%|██████████| 1/1 [00:00<00:00, 1210.83it/s]"
     ]
    },
    {
     "name": "stdout",
     "output_type": "stream",
     "text": [
      "[ 5.89211326  4.22590511  5.55507855] [ 8.29718835  7.52158124  8.4015833 ] 11.2847205245\n",
      "11.2847205245\n"
     ]
    },
    {
     "name": "stderr",
     "output_type": "stream",
     "text": [
      "\n"
     ]
    }
   ],
   "source": [
    "# Just checking to see if I can use this generally as a way to get a single \n",
    "# random draw from the model. Looks like the answer to that is yes!\n",
    "with model3:\n",
    "    trace = pm.sample(1, init=None, step=pm.Metropolis())\n",
    "print(trace['x'][0], trace['y'][0], trace['z'][0])\n",
    "print(np.sqrt(dot(trace['x'][0], trace['y'][0])))"
   ]
  },
  {
   "cell_type": "markdown",
   "metadata": {},
   "source": [
    "That seems to be a useful functionality that is missing in pymc3. I wonder if I could code up something to just get a single, random draw?"
   ]
  },
  {
   "cell_type": "code",
   "execution_count": 6,
   "metadata": {
    "ExecuteTime": {
     "end_time": "2017-06-08T17:29:15.264644Z",
     "start_time": "2017-06-08T17:29:15.035638Z"
    }
   },
   "outputs": [
    {
     "data": {
      "text/plain": [
       "{'x': array([ 6.72784427,  4.9157642 ,  6.73290718]),\n",
       " 'y': array([ 6.95660954,  8.07598297,  8.08925441]),\n",
       " 'z': 11.872944567928995}"
      ]
     },
     "execution_count": 6,
     "metadata": {},
     "output_type": "execute_result"
    }
   ],
   "source": [
    "def draw(m):\n",
    "    with m:\n",
    "        trace = pm.sample(1, init=None, step=pm.Metropolis(tune=False),\n",
    "                          progressbar=False)\n",
    "    out = {}\n",
    "    for k in m.named_vars.keys():\n",
    "        out[k] = trace[k][0]\n",
    "        \n",
    "    return out\n",
    "\n",
    "draw(model3)"
   ]
  },
  {
   "cell_type": "markdown",
   "metadata": {},
   "source": [
    "Well, now I feel silly; the distributions do have .random() methods, they just need to be used in the model context. But the Deterministic doesn't have one?"
   ]
  },
  {
   "cell_type": "code",
   "execution_count": 39,
   "metadata": {
    "ExecuteTime": {
     "end_time": "2017-06-08T17:49:49.525334Z",
     "start_time": "2017-06-08T17:49:49.508483Z"
    }
   },
   "outputs": [
    {
     "name": "stdout",
     "output_type": "stream",
     "text": [
      "[ 4.46067257]\n",
      "[ 6.69185304]\n"
     ]
    },
    {
     "ename": "AttributeError",
     "evalue": "'TensorVariable' object has no attribute 'random'",
     "output_type": "error",
     "traceback": [
      "\u001b[0;31m---------------------------------------------------------------------------\u001b[0m",
      "\u001b[0;31mAttributeError\u001b[0m                            Traceback (most recent call last)",
      "\u001b[0;32m<ipython-input-39-14e7413420cf>\u001b[0m in \u001b[0;36m<module>\u001b[0;34m()\u001b[0m\n\u001b[1;32m      2\u001b[0m     \u001b[0mprint\u001b[0m\u001b[0;34m(\u001b[0m\u001b[0mx\u001b[0m\u001b[0;34m.\u001b[0m\u001b[0mrandom\u001b[0m\u001b[0;34m(\u001b[0m\u001b[0;34m)\u001b[0m\u001b[0;34m)\u001b[0m\u001b[0;34m\u001b[0m\u001b[0m\n\u001b[1;32m      3\u001b[0m     \u001b[0mprint\u001b[0m\u001b[0;34m(\u001b[0m\u001b[0my\u001b[0m\u001b[0;34m.\u001b[0m\u001b[0mrandom\u001b[0m\u001b[0;34m(\u001b[0m\u001b[0;34m)\u001b[0m\u001b[0;34m)\u001b[0m\u001b[0;34m\u001b[0m\u001b[0m\n\u001b[0;32m----> 4\u001b[0;31m     \u001b[0mprint\u001b[0m\u001b[0;34m(\u001b[0m\u001b[0mz\u001b[0m\u001b[0;34m.\u001b[0m\u001b[0mrandom\u001b[0m\u001b[0;34m(\u001b[0m\u001b[0;34m)\u001b[0m\u001b[0;34m)\u001b[0m    \u001b[0;31m# Won't work. But can be calculated manually.\u001b[0m\u001b[0;34m\u001b[0m\u001b[0m\n\u001b[0m",
      "\u001b[0;31mAttributeError\u001b[0m: 'TensorVariable' object has no attribute 'random'"
     ]
    }
   ],
   "source": [
    "with model1:\n",
    "    print(x.random())\n",
    "    print(y.random())\n",
    "    #print(z.random())    # Won't work. But can be calculated manually."
   ]
  },
  {
   "cell_type": "markdown",
   "metadata": {},
   "source": [
    "Ok, now let's look at examining the prior distributions."
   ]
  },
  {
   "cell_type": "code",
   "execution_count": 32,
   "metadata": {
    "ExecuteTime": {
     "end_time": "2017-06-08T17:48:02.942519Z",
     "start_time": "2017-06-08T17:47:56.515852Z"
    }
   },
   "outputs": [],
   "source": [
    "with model1:\n",
    "    x_pr = np.array([x.random()[0] for i in range(20000)])\n",
    "    y_pr = np.array([y.random()[0] for i in range(20000)])\n",
    "    z_pr = f(x_pr, y_pr)"
   ]
  },
  {
   "cell_type": "code",
   "execution_count": 36,
   "metadata": {
    "ExecuteTime": {
     "end_time": "2017-06-08T17:49:01.407150Z",
     "start_time": "2017-06-08T17:49:01.116805Z"
    }
   },
   "outputs": [
    {
     "data": {
      "image/png": "[encoded data removed]",
      "text/plain": [
       "<matplotlib.figure.Figure at 0x12d29eef0>"
      ]
     },
     "metadata": {},
     "output_type": "display_data"
    },
    {
     "data": {
      "image/png": "[encoded data removed]",
      "text/plain": [
       "<matplotlib.figure.Figure at 0x12f1405f8>"
      ]
     },
     "metadata": {},
     "output_type": "display_data"
    }
   ],
   "source": [
    "#mask = ~np.isnan(z_pr)\n",
    "plt.hist(x_pr,bins=70,histtype=\"step\")\n",
    "plt.hist(y_pr,bins=70,histtype=\"step\")\n",
    "plt.figure()\n",
    "plt.hist(z_pr,bins=70,histtype=\"step\");"
   ]
  },
  {
   "cell_type": "markdown",
   "metadata": {},
   "source": [
    "I don't know if there's a better way to do that, but this works at least in simple cases. I can't imagine there's any obstacle to this method anywhere, but it'd be worth taking some time to do a better job of understanding this."
   ]
  },
  {
   "cell_type": "code",
   "execution_count": null,
   "metadata": {
    "collapsed": true
   },
   "outputs": [],
   "source": []
  }
 ],
 "metadata": {
  "kernelspec": {
   "display_name": "Python 3",
   "language": "python",
   "name": "python3"
  },
  "language_info": {
   "codemirror_mode": {
    "name": "ipython",
    "version": 3
   },
   "file_extension": ".py",
   "mimetype": "text/x-python",
   "name": "python",
   "nbconvert_exporter": "python",
   "pygments_lexer": "ipython3",
   "version": "3.6.1"
  },
  "toc": {
   "colors": {
    "hover_highlight": "#DAA520",
    "navigate_num": "#000000",
    "navigate_text": "#333333",
    "running_highlight": "#FF0000",
    "selected_highlight": "#FFD700",
    "sidebar_border": "#EEEEEE",
    "wrapper_background": "#FFFFFF"
   },
   "moveMenuLeft": true,
   "nav_menu": {
    "height": "49px",
    "width": "252px"
   },
   "navigate_menu": true,
   "number_sections": true,
   "sideBar": true,
   "threshold": 4,
   "toc_cell": false,
   "toc_section_display": "block",
   "toc_window_display": false,
   "widenNotebook": false
  }
 },
 "nbformat": 4,
 "nbformat_minor": 2
}
