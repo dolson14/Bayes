{
 "cells": [
  {
   "cell_type": "markdown",
   "metadata": {},
   "source": [
    "# Simulating the game Chutes and Ladders\n",
    "\n",
    "This is based on an article I found at\n",
    "http://www.datagenetics.com/blog/november12011/\n",
    "\n",
    "I am using this as a basis to try a couple of things with Bayes."
   ]
  },
  {
   "cell_type": "code",
   "execution_count": 1,
   "metadata": {
    "ExecuteTime": {
     "end_time": "2017-07-24T18:14:07.599432Z",
     "start_time": "2017-07-24T18:14:07.084791Z"
    },
    "collapsed": true
   },
   "outputs": [],
   "source": [
    "%matplotlib inline\n",
    "%load_ext version_information"
   ]
  },
  {
   "cell_type": "code",
   "execution_count": 2,
   "metadata": {
    "ExecuteTime": {
     "end_time": "2017-07-24T18:14:07.630168Z",
     "start_time": "2017-07-24T18:14:07.601431Z"
    }
   },
   "outputs": [
    {
     "data": {
      "application/json": {
       "Software versions": [
        {
         "module": "Python",
         "version": "3.6.2 64bit [GCC 4.2.1 Compatible Apple LLVM 6.0 (clang-600.0.57)]"
        },
        {
         "module": "IPython",
         "version": "6.1.0"
        },
        {
         "module": "OS",
         "version": "Darwin 16.6.0 x86_64 i386 64bit"
        },
        {
         "module": "matplotlib",
         "version": "2.0.2"
        },
        {
         "module": "numpy",
         "version": "1.13.1"
        }
       ]
      },
      "text/html": [
       "<table><tr><th>Software</th><th>Version</th></tr><tr><td>Python</td><td>3.6.2 64bit [GCC 4.2.1 Compatible Apple LLVM 6.0 (clang-600.0.57)]</td></tr><tr><td>IPython</td><td>6.1.0</td></tr><tr><td>OS</td><td>Darwin 16.6.0 x86_64 i386 64bit</td></tr><tr><td>matplotlib</td><td>2.0.2</td></tr><tr><td>numpy</td><td>1.13.1</td></tr><tr><td colspan='2'>Mon Jul 24 12:14:07 2017 MDT</td></tr></table>"
      ],
      "text/latex": [
       "\\begin{tabular}{|l|l|}\\hline\n",
       "{\\bf Software} & {\\bf Version} \\\\ \\hline\\hline\n",
       "Python & 3.6.2 64bit [GCC 4.2.1 Compatible Apple LLVM 6.0 (clang-600.0.57)] \\\\ \\hline\n",
       "IPython & 6.1.0 \\\\ \\hline\n",
       "OS & Darwin 16.6.0 x86\\_64 i386 64bit \\\\ \\hline\n",
       "matplotlib & 2.0.2 \\\\ \\hline\n",
       "numpy & 1.13.1 \\\\ \\hline\n",
       "\\hline \\multicolumn{2}{|l|}{Mon Jul 24 12:14:07 2017 MDT} \\\\ \\hline\n",
       "\\end{tabular}\n"
      ],
      "text/plain": [
       "Software versions\n",
       "Python 3.6.2 64bit [GCC 4.2.1 Compatible Apple LLVM 6.0 (clang-600.0.57)]\n",
       "IPython 6.1.0\n",
       "OS Darwin 16.6.0 x86_64 i386 64bit\n",
       "matplotlib 2.0.2\n",
       "numpy 1.13.1\n",
       "Mon Jul 24 12:14:07 2017 MDT"
      ]
     },
     "execution_count": 2,
     "metadata": {},
     "output_type": "execute_result"
    }
   ],
   "source": [
    "# Standard Library\n",
    "from fractions import Fraction as frac\n",
    "\n",
    "# Third Party Libraries\n",
    "import matplotlib.pyplot as plt\n",
    "import numpy as np\n",
    "from tqdm import tqdm_notebook as tqdm\n",
    "\n",
    "%version_information matplotlib,numpy"
   ]
  },
  {
   "cell_type": "markdown",
   "metadata": {},
   "source": [
    "## Board Model\n",
    "\n",
    "We can define the positions of the chutes and ladders with dictionaries. The dictionary keys are the board positions where a chute or ladder starts, and the dictionary values are the board positions where the chute or ladder ends."
   ]
  },
  {
   "cell_type": "code",
   "execution_count": 3,
   "metadata": {
    "ExecuteTime": {
     "end_time": "2017-07-24T18:14:07.637083Z",
     "start_time": "2017-07-24T18:14:07.632437Z"
    },
    "collapsed": true
   },
   "outputs": [],
   "source": [
    "## Board definition from original article\n",
    "ladders = {1:38, 4:14, 9:31, 21:42, 28:84, 36:44, 51:67, 71:91, 80:100}\n",
    "chutes  = {16:6, 48:26, 49:11, 56:53, 62:19, 64:60, 87:24, 93:73, 95:75, 98:78}"
   ]
  },
  {
   "cell_type": "markdown",
   "metadata": {},
   "source": [
    "## Moving a player\n",
    "\n",
    "The game is played by rolling a die or flipping a spinner; in either case, the player moves a random number from 1 to 6. After that move, we need to check and resolve a present chute or ladder. The code needs to report the type of move and the landing spot so we can do statistics on how frequently each chute and ladder is used."
   ]
  },
  {
   "cell_type": "code",
   "execution_count": 4,
   "metadata": {
    "ExecuteTime": {
     "end_time": "2017-07-24T18:14:07.648955Z",
     "start_time": "2017-07-24T18:14:07.639289Z"
    },
    "collapsed": true
   },
   "outputs": [],
   "source": [
    "def move(p):\n",
    "    p += np.random.randint(1,7)\n",
    "    movetype = ['n',p]\n",
    "    if p in ladders.keys():\n",
    "        movetype[0] = 'l'\n",
    "        p = ladders[p]\n",
    "    if p in chutes.keys():\n",
    "        movetype[0] = 'c'\n",
    "        p = chutes[p]\n",
    "    return p,movetype"
   ]
  },
  {
   "cell_type": "markdown",
   "metadata": {},
   "source": [
    "## Playing a game\n",
    "\n",
    "We only need to simulate a single player, since there are no interactions between players. Because the game has the potential for an infinite loop, we need to put some control into the simulation to exit after a (large) number of moves. Games are only valid if they exit normally."
   ]
  },
  {
   "cell_type": "code",
   "execution_count": 5,
   "metadata": {
    "ExecuteTime": {
     "end_time": "2017-07-24T18:14:07.674583Z",
     "start_time": "2017-07-24T18:14:07.651025Z"
    }
   },
   "outputs": [],
   "source": [
    "def play(nmax=1000):\n",
    "    n=0        # count number of turns\n",
    "    p=0        # start at position 0\n",
    "    win=False  # has the player won yet?\n",
    "    moves = np.zeros(nmax).astype(int)\n",
    "    chute_hits = np.zeros(nmax).astype(int)\n",
    "    ladder_hits = np.zeros(nmax).astype(int)\n",
    "    \n",
    "    while n<nmax and not win:\n",
    "        p,t  = move(p)\n",
    "        n += 1\n",
    "        moves[n] = p\n",
    "        if p >= 100:\n",
    "            win = True\n",
    "        if t[0]=='l':\n",
    "            ladder_hits[n] = t[1]\n",
    "        elif t[0]=='c':\n",
    "            chute_hits[n] = t[1]\n",
    "            \n",
    "    return {'moves':moves, 'turns':n, 'valid':n<nmax,\n",
    "            'ladders':ladder_hits, 'chutes':chute_hits}"
   ]
  },
  {
   "cell_type": "code",
   "execution_count": 6,
   "metadata": {
    "ExecuteTime": {
     "end_time": "2017-07-24T18:14:07.900166Z",
     "start_time": "2017-07-24T18:14:07.676971Z"
    }
   },
   "outputs": [
    {
     "name": "stdout",
     "output_type": "stream",
     "text": [
      "Total Turns: 49\n",
      "Ladders Hit: 3\n",
      "\t51:\t1\n",
      "\t71:\t2\n",
      "Chutes Hit: 6\n",
      "\t98:\t2\n",
      "\t16:\t1\n",
      "\t87:\t1\n",
      "\t56:\t1\n",
      "\t95:\t1\n"
     ]
    },
    {
     "data": {
      "image/png": "[encoded data removed]",
      "text/plain": [
       "<matplotlib.figure.Figure at 0x111ac27f0>"
      ]
     },
     "metadata": {},
     "output_type": "display_data"
    }
   ],
   "source": [
    "result = play()\n",
    "print(\"Total Turns: {0}\".format(result['turns']))\n",
    "print(\"Ladders Hit: {0}\".format((result['ladders']!=0).sum()))\n",
    "for l in set(result['ladders']):\n",
    "    if l==0:\n",
    "        continue\n",
    "    print(\"\\t{0}:\\t{1}\".format(l,len(np.where(result['ladders']==l)[0])))\n",
    "print(\"Chutes Hit: {0}\".format((result['chutes']!=0).sum()))\n",
    "for c in set(result['chutes']):\n",
    "    if c==0:\n",
    "        continue\n",
    "    print(\"\\t{0}:\\t{1}\".format(c,len(np.where(result['chutes']==c)[0])))\n",
    "\n",
    "plt.plot(result['moves'][:result['turns']+1])\n",
    "for l in np.where(result['ladders']!=0)[0]:\n",
    "    plt.plot([l,l],[0,100],'g--')\n",
    "for c in np.where(result['chutes']!=0)[0]:\n",
    "    plt.plot([c,c],[0,100],'r--')\n",
    "\n",
    "plt.ylim(0,100)\n",
    "plt.xlim(0,int(5*round(result['turns']/5.)))\n",
    "plt.grid();"
   ]
  },
  {
   "cell_type": "code",
   "execution_count": 7,
   "metadata": {
    "ExecuteTime": {
     "end_time": "2017-07-26T16:26:56.268754Z",
     "start_time": "2017-07-26T16:26:56.264436Z"
    }
   },
   "outputs": [
    {
     "data": {
      "text/plain": [
       "array([16, 56, 95, 98, 87, 98])"
      ]
     },
     "execution_count": 7,
     "metadata": {},
     "output_type": "execute_result"
    }
   ],
   "source": [
    "result['chutes'][(result['chutes']!=0)]"
   ]
  },
  {
   "cell_type": "code",
   "execution_count": null,
   "metadata": {
    "collapsed": true
   },
   "outputs": [],
   "source": []
  }
 ],
 "metadata": {
  "kernelspec": {
   "display_name": "Python 3",
   "language": "python",
   "name": "python3"
  },
  "language_info": {
   "codemirror_mode": {
    "name": "ipython",
    "version": 3
   },
   "file_extension": ".py",
   "mimetype": "text/x-python",
   "name": "python",
   "nbconvert_exporter": "python",
   "pygments_lexer": "ipython3",
   "version": "3.6.2"
  },
  "toc": {
   "colors": {
    "hover_highlight": "#DAA520",
    "navigate_num": "#000000",
    "navigate_text": "#333333",
    "running_highlight": "#FF0000",
    "selected_highlight": "#FFD700",
    "sidebar_border": "#EEEEEE",
    "wrapper_background": "#FFFFFF"
   },
   "moveMenuLeft": true,
   "nav_menu": {
    "height": "97px",
    "width": "252px"
   },
   "navigate_menu": true,
   "number_sections": true,
   "sideBar": true,
   "threshold": 4,
   "toc_cell": false,
   "toc_section_display": "block",
   "toc_window_display": false,
   "widenNotebook": false
  }
 },
 "nbformat": 4,
 "nbformat_minor": 2
}
